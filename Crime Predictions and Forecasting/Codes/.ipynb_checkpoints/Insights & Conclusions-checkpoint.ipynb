{
 "cells": [
  {
   "cell_type": "markdown",
   "metadata": {
    "id": "9aMmQhZ0ee24"
   },
   "source": [
    "# **Results**"
   ]
  },
  {
   "cell_type": "markdown",
   "metadata": {
    "id": "1T7tIiWpfFkA"
   },
   "source": [
    "**Theft crimes**\n",
    "\n",
    "|Algorithm|Model|RMSE|MAE|\n",
    "|---|---|---|---|\n",
    "|Time Series|Holt Winters ES|1685.7299180626148|0.44666923637136496|\n",
    "|ML Regression|XG Boost|384.89488424798094|0.09312016710289492|\n",
    "\n",
    "---\n",
    "**Battery crimes**\n",
    "\n",
    "|Algorithm|Model|RMSE|MAE|\n",
    "|---|---|---|---|\n",
    "|Time Series|SARIMAX|605.2146932061636|0.1422582062036208|\n",
    "|ML Regression|XG Boost|155.61552019459592|0.03465607850708874|\n",
    "\n",
    "---\n",
    "**Criminal Damage crimes**\n",
    "\n",
    "|Algorithm|Model|RMSE|MAE|\n",
    "|---|---|---|---|\n",
    "|Time Series|SARIMAX|290.74088577983855|0.11893376700129941|\n",
    "|ML Regression|XG Boost|46.644459765802345|0.017324809194114117|"
   ]
  },
  {
   "cell_type": "markdown",
   "metadata": {
    "id": "VPjN4m0KhEJp"
   },
   "source": [
    "- The cause of the time series error in Theft crime was an exponential decrease in crime rate which is not captured by the model accurately. \n",
    "\n",
    "- While time series has the function to forecast future values, its results while training model is questionable as it relies upon the endogenous feature and some exogenous features as explained in the notebook.\n",
    "\n",
    "- Based on our domain knowledge, predicting crimes can be caused by other x-factors hence regression which can train on other important features gives us a better model accuracy as compared to the time series model"
   ]
  },
  {
   "cell_type": "markdown",
   "metadata": {
    "id": "pVh4jsnfimGf"
   },
   "source": [
    "### **Best results: Using XG Boost from predictions**"
   ]
  },
  {
   "cell_type": "markdown",
   "metadata": {
    "id": "zo-oV5thN1mU"
   },
   "source": [
    "# **Limitations**\n"
   ]
  },
  {
   "cell_type": "markdown",
   "metadata": {
    "id": "NgTQz9XcfDkA"
   },
   "source": [
    "1. Data collected lacks of sufficient information\n",
    "2. The quality of the data is based on the accuracy and integrity of the person reporting the crime"
   ]
  },
  {
   "cell_type": "markdown",
   "metadata": {
    "id": "4NaEoBAbenrI"
   },
   "source": [
    "# **Conclusions**\n",
    "\n"
   ]
  },
  {
   "cell_type": "markdown",
   "metadata": {
    "id": "yv-QOsk-e-4o"
   },
   "source": [
    "- As the first phase of deployment when can create a UI for officers to study information of crimes commited in the city and forecasted values to be well prepared for the day with the help of our model\n",
    "\n",
    "- Predicting crimes before they happen is simple to understand, but it takes a lot more than understanding the concept to make it a reality. \n",
    "\n",
    "- The aim is to make crime prediction a reality and implement such advanced technology in real life to help assist the police prepare and prevent crimes from happening. \n",
    "\n",
    "- The deployment of such technology will fundamentally change the way police work in a much better and efficient manner. "
   ]
  },
  {
   "cell_type": "markdown",
   "metadata": {
    "id": "mMFEOeosLwgE"
   },
   "source": [
    "# **Recommendations**"
   ]
  },
  {
   "cell_type": "markdown",
   "metadata": {
    "id": "ENHdty7QLzoq"
   },
   "source": [
    "Tools and information are needed to predict a crime before it occurs. State officers themselves are humans and may have limitations digesting, processing and infering big amount of data in order to predict crimes. \n",
    "\n"
   ]
  },
  {
   "cell_type": "markdown",
   "metadata": {
    "id": "8bcqLsQ8NeiH"
   },
   "source": [
    "Following are some recommendations they can take to increase the accuracy of predicting and forecasting crimes:\n",
    "\n",
    "\n",
    "\n",
    "***1)  Working with experts***\n",
    "\n",
    "- Other relevant parties should be involved in this project such as representatives from the government, academic and private organization to provide insightful information and domain knowledge of the individual industry.\n",
    "\n",
    "\n",
    "***2)  Working with community***\n",
    " - At the moment, Chicago State Police may not have sufficient intel and types of equipment to aid them in understanding where crime may or potentially happen. Presently all information is based on crime reported via the main hotline channel. \n",
    "\n",
    "- By engaging the members of public to educate them of potential crimes and reporting to the police when issues arises. \n",
    "\n",
    "- This information provided will be useful to assist us in understanding crime patterns but also in detecting early signs of major crimes that may happen.\n",
    "\n",
    "***3)  Research & Development***\n",
    "- With the help of modern technology, Chicago State Police are able to reinforced their intelligence unit towards difference crimes in their city and well prepared to enforce law and ensure the safety of members of public.\n",
    "\n",
    "- Surveillance equipments, crime report application are few of the modern technology tools that can be use assist in crime prediction."
   ]
  },
  {
   "cell_type": "markdown",
   "metadata": {
    "id": "jVXh4FZmN5it"
   },
   "source": [
    "# **Future Scope**"
   ]
  },
  {
   "cell_type": "markdown",
   "metadata": {
    "id": "XhFTtC5KN5mG"
   },
   "source": [
    "- This project presented the techniques and methods that can be used to predict crime. The scope of using different methods for crime prediction and prevention can change how enforcers work and prevent crimes.\n",
    "\n",
    "- Using a combination of Machine Learning algorithms (ML) can substantially impact the overall functionality of the policing work. As we observed, substantial amount of information is required to ensure accuracy but in the future, combining ML algorithms, along with external informations and devices or equipments, our model can learn the pattern of previous crimes and understand what crime is, leading towards predicting future crimes accurately without human intervention.\n",
    "\n",
    "- The scope of predicting crimes are endless. Aside from using just a regression and times-series tehcniques, we can also further look into the use of spatial data. This can be a starting point for our future study and bring about a revolution in the predicting, forecasting, detecting and prevention in policing work.\n"
   ]
  }
 ],
 "metadata": {
  "colab": {
   "authorship_tag": "ABX9TyMh6MRDZN4u98/tLp9KoT4v",
   "collapsed_sections": [],
   "name": "Insights & Conclusions.ipynb",
   "provenance": []
  },
  "kernelspec": {
   "display_name": "Python 3",
   "language": "python",
   "name": "python3"
  },
  "language_info": {
   "codemirror_mode": {
    "name": "ipython",
    "version": 3
   },
   "file_extension": ".py",
   "mimetype": "text/x-python",
   "name": "python",
   "nbconvert_exporter": "python",
   "pygments_lexer": "ipython3",
   "version": "3.8.5"
  }
 },
 "nbformat": 4,
 "nbformat_minor": 1
}
