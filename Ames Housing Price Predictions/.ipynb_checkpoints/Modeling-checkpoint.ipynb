{
 "cells": [
  {
   "cell_type": "markdown",
   "metadata": {},
   "source": [
    "## Baseline Modeling"
   ]
  },
  {
   "cell_type": "code",
   "execution_count": 1,
   "metadata": {},
   "outputs": [],
   "source": [
    "# Import libraries\n",
    "import numpy as np\n",
    "import pandas as pd\n",
    "import matplotlib.pyplot as plt\n",
    "import seaborn as sns\n",
    "\n",
    "from sklearn.linear_model import Ridge, Lasso, ElasticNet, LinearRegression, RidgeCV, LassoCV, ElasticNetCV\n",
    "from sklearn.model_selection import train_test_split, cross_val_score\n",
    "from sklearn.preprocessing import StandardScaler, PolynomialFeatures\n",
    "from sklearn.impute import KNNImputer\n",
    "from sklearn.metrics import r2_score, mean_squared_error"
   ]
  },
  {
   "cell_type": "code",
   "execution_count": 2,
   "metadata": {},
   "outputs": [],
   "source": [
    "# Read data\n",
    "train_df = pd.read_csv('./datasets/cleantrain.csv')\n",
    "extradf = pd.read_csv('./datasets/test.csv')\n",
    "test_df = pd.read_csv('./datasets/cleantest2.csv')"
   ]
  },
  {
   "cell_type": "markdown",
   "metadata": {},
   "source": [
    "Using the clean train dataset model the baseline score using Linear Regression:"
   ]
  },
  {
   "cell_type": "code",
   "execution_count": 3,
   "metadata": {},
   "outputs": [],
   "source": [
    "# Checking correlations of train data after cleaning\n",
    "corr_data = abs(train_df.corr()['saleprice'])"
   ]
  },
  {
   "cell_type": "code",
   "execution_count": 4,
   "metadata": {},
   "outputs": [
    {
     "data": {
      "text/plain": [
       "['year_built',\n",
       " 'year_remod/add',\n",
       " 'mas_vnr_area',\n",
       " 'bsmtfin_sf_1',\n",
       " 'total_bsmt_sf',\n",
       " '1st_flr_sf',\n",
       " 'gr_liv_area',\n",
       " 'full_bath',\n",
       " 'totrms_abvgrd',\n",
       " 'fireplaces',\n",
       " 'garage_cars',\n",
       " 'garage_area',\n",
       " 'neighborhood_NridgHt',\n",
       " 'overall_qual_8',\n",
       " 'overall_qual_9',\n",
       " 'mas_vnr_type_None',\n",
       " 'exter_qual_Gd',\n",
       " 'exter_qual_TA',\n",
       " 'foundation_PConc',\n",
       " 'bsmt_qual_TA',\n",
       " 'bsmtfin_type_1_GLQ',\n",
       " 'kitchen_qual_TA',\n",
       " 'fireplace_qu_NA',\n",
       " 'garage_finish_Unf']"
      ]
     },
     "execution_count": 4,
     "metadata": {},
     "output_type": "execute_result"
    }
   ],
   "source": [
    "features=corr_data[(corr_data >=0.4) & (corr_data !=1.0)]\n",
    "features.index.tolist()"
   ]
  },
  {
   "cell_type": "code",
   "execution_count": 5,
   "metadata": {},
   "outputs": [
    {
     "data": {
      "text/plain": [
       "year_built              0.574620\n",
       "year_remod/add          0.554174\n",
       "mas_vnr_area            0.496252\n",
       "bsmtfin_sf_1            0.421756\n",
       "total_bsmt_sf           0.650337\n",
       "1st_flr_sf              0.632303\n",
       "gr_liv_area             0.716672\n",
       "full_bath               0.542694\n",
       "totrms_abvgrd           0.503861\n",
       "fireplaces              0.463032\n",
       "garage_cars             0.652295\n",
       "garage_area             0.648670\n",
       "neighborhood_NridgHt    0.442246\n",
       "overall_qual_8          0.440662\n",
       "overall_qual_9          0.460973\n",
       "mas_vnr_type_None       0.424630\n",
       "exter_qual_Gd           0.470169\n",
       "exter_qual_TA           0.600667\n",
       "foundation_PConc        0.531430\n",
       "bsmt_qual_TA            0.456203\n",
       "bsmtfin_type_1_GLQ      0.455862\n",
       "kitchen_qual_TA         0.541156\n",
       "fireplace_qu_NA         0.485357\n",
       "garage_finish_Unf       0.432470\n",
       "Name: saleprice, dtype: float64"
      ]
     },
     "execution_count": 5,
     "metadata": {},
     "output_type": "execute_result"
    }
   ],
   "source": [
    "features"
   ]
  },
  {
   "cell_type": "markdown",
   "metadata": {},
   "source": [
    "#### Observation \n",
    "\n",
    "Based on these observations, this features are to determine the sales price values of the house"
   ]
  },
  {
   "cell_type": "code",
   "execution_count": 6,
   "metadata": {},
   "outputs": [
    {
     "data": {
      "text/plain": [
       "24"
      ]
     },
     "execution_count": 6,
     "metadata": {},
     "output_type": "execute_result"
    }
   ],
   "source": [
    "len(features)"
   ]
  },
  {
   "cell_type": "code",
   "execution_count": 7,
   "metadata": {},
   "outputs": [],
   "source": [
    "# Define X and y variables\n",
    "X = train_df[features.index]\n",
    "y = train_df.saleprice\n",
    "   "
   ]
  },
  {
   "cell_type": "code",
   "execution_count": 8,
   "metadata": {},
   "outputs": [],
   "source": [
    "# Apply polynomial on features after using the correlation above 0.5\n",
    "poly = PolynomialFeatures(interaction_only=True, include_bias=False)\n",
    "X_poly = poly.fit_transform(X)"
   ]
  },
  {
   "cell_type": "code",
   "execution_count": 9,
   "metadata": {},
   "outputs": [],
   "source": [
    "# Train test split\n",
    "X_train, X_test, y_train, y_test = train_test_split(X_poly, y, test_size=0.3, random_state=42)"
   ]
  },
  {
   "cell_type": "code",
   "execution_count": 10,
   "metadata": {
    "scrolled": false
   },
   "outputs": [],
   "source": [
    "# Standardization\n",
    "ss = StandardScaler()\n",
    "Z_train = ss.fit_transform(X_train)\n",
    "Z_test = ss.transform(X_test)"
   ]
  },
  {
   "cell_type": "markdown",
   "metadata": {},
   "source": [
    "## Linear Regression"
   ]
  },
  {
   "cell_type": "code",
   "execution_count": 11,
   "metadata": {},
   "outputs": [
    {
     "data": {
      "text/plain": [
       "LinearRegression()"
      ]
     },
     "execution_count": 11,
     "metadata": {},
     "output_type": "execute_result"
    }
   ],
   "source": [
    "# instantiate Linear Regression\n",
    "lr = LinearRegression()\n",
    "lr.fit(Z_train, y_train)"
   ]
  },
  {
   "cell_type": "code",
   "execution_count": 12,
   "metadata": {},
   "outputs": [
    {
     "name": "stdout",
     "output_type": "stream",
     "text": [
      "Linear train score: 0.9416358536993957\n",
      "Linear test score: 0.8440023571294905\n"
     ]
    }
   ],
   "source": [
    "# Scores for train and test data\n",
    "print (f'Linear train score: {lr.score(Z_train, y_train)}')\n",
    "print (f'Linear test score: {lr.score(Z_test, y_test)}')"
   ]
  },
  {
   "cell_type": "code",
   "execution_count": 13,
   "metadata": {},
   "outputs": [
    {
     "name": "stdout",
     "output_type": "stream",
     "text": [
      "CV Training Score: -0.08772455401527543\n"
     ]
    }
   ],
   "source": [
    "# Cross val score for train data\n",
    "cross = cross_val_score(lr, Z_train, y_train, cv=5).mean()\n",
    "\n",
    "print (f'CV Training Score: {cross}')"
   ]
  },
  {
   "cell_type": "code",
   "execution_count": 14,
   "metadata": {},
   "outputs": [],
   "source": [
    "# Finding prediction values\n",
    "y_pred = lr.predict(Z_test)"
   ]
  },
  {
   "cell_type": "code",
   "execution_count": 15,
   "metadata": {
    "scrolled": false
   },
   "outputs": [
    {
     "name": "stderr",
     "output_type": "stream",
     "text": [
      "C:\\ProgramData\\Anaconda3\\lib\\site-packages\\seaborn\\_decorators.py:36: FutureWarning: Pass the following variables as keyword args: x, y. From version 0.12, the only valid positional argument will be `data`, and passing other arguments without an explicit keyword will result in an error or misinterpretation.\n",
      "  warnings.warn(\n"
     ]
    },
    {
     "data": {
      "text/plain": [
       "<AxesSubplot:ylabel='saleprice'>"
      ]
     },
     "execution_count": 15,
     "metadata": {},
     "output_type": "execute_result"
    },
    {
     "data": {
      "image/png": "[encoded data removed]",
      "text/plain": [
       "<Figure size 720x360 with 1 Axes>"
      ]
     },
     "metadata": {
      "needs_background": "light"
     },
     "output_type": "display_data"
    }
   ],
   "source": [
    "fig, ax = plt.subplots(figsize=(10, 5))\n",
    "sns.regplot(y_pred, y_test)"
   ]
  },
  {
   "cell_type": "code",
   "execution_count": 16,
   "metadata": {
    "scrolled": true
   },
   "outputs": [
    {
     "data": {
      "text/plain": [
       "31144.75462351428"
      ]
     },
     "execution_count": 16,
     "metadata": {},
     "output_type": "execute_result"
    }
   ],
   "source": [
    "# Finding RMSE score\n",
    "mean_squared_error(y_test, y_pred, squared=False)"
   ]
  },
  {
   "cell_type": "markdown",
   "metadata": {},
   "source": [
    "## Lasso Regression"
   ]
  },
  {
   "cell_type": "code",
   "execution_count": 17,
   "metadata": {
    "scrolled": true
   },
   "outputs": [
    {
     "name": "stdout",
     "output_type": "stream",
     "text": [
      "266.59737557672383\n"
     ]
    }
   ],
   "source": [
    "# Finding best lasso alpha\n",
    "optimal_lasso = LassoCV(n_alphas=20, cv=5, max_iter=10000)\n",
    "optimal_lasso.fit(Z_train, y_train)\n",
    "\n",
    "print (optimal_lasso.alpha_)"
   ]
  },
  {
   "cell_type": "code",
   "execution_count": 18,
   "metadata": {
    "scrolled": true
   },
   "outputs": [
    {
     "name": "stdout",
     "output_type": "stream",
     "text": [
      "Lasso training Cross Val Score: 0.889713297361196\n"
     ]
    }
   ],
   "source": [
    "# Instantiate Lasso regression\n",
    "lasso = Lasso(alpha=optimal_lasso.alpha_, max_iter=10000)\n",
    "\n",
    "lasso_scores = cross_val_score(lasso, Z_train, y_train, cv=5)\n",
    "\n",
    "print (f'Lasso training Cross Val Score: {np.mean(lasso_scores)}')"
   ]
  },
  {
   "cell_type": "code",
   "execution_count": 19,
   "metadata": {},
   "outputs": [
    {
     "name": "stdout",
     "output_type": "stream",
     "text": [
      "Lasso training score: 0.9138052597918352\n",
      "Lasso test score: 0.8752164820021221\n"
     ]
    }
   ],
   "source": [
    "# Scores for train and test data\n",
    "lasso.fit(Z_train, y_train)\n",
    "\n",
    "print (f'Lasso training score: {lasso.score(Z_train, y_train)}')\n",
    "print (f'Lasso test score: {lasso.score(Z_test, y_test)}')"
   ]
  },
  {
   "cell_type": "code",
   "execution_count": 20,
   "metadata": {},
   "outputs": [],
   "source": [
    "# Finding lasso predictions\n",
    "y_preds2 = lasso.predict(Z_test)"
   ]
  },
  {
   "cell_type": "code",
   "execution_count": 21,
   "metadata": {},
   "outputs": [
    {
     "data": {
      "text/plain": [
       "27855.086293863355"
      ]
     },
     "execution_count": 21,
     "metadata": {},
     "output_type": "execute_result"
    }
   ],
   "source": [
    "# Finding lasso RMSE\n",
    "mean_squared_error(y_test, y_preds2, squared=False)"
   ]
  },
  {
   "cell_type": "code",
   "execution_count": 22,
   "metadata": {
    "scrolled": true
   },
   "outputs": [
    {
     "data": {
      "text/plain": [
       "<AxesSubplot:ylabel='saleprice'>"
      ]
     },
     "execution_count": 22,
     "metadata": {},
     "output_type": "execute_result"
    },
    {
     "data": {
      "image/png": "[encoded data removed]",
      "text/plain": [
       "<Figure size 720x360 with 1 Axes>"
      ]
     },
     "metadata": {
      "needs_background": "light"
     },
     "output_type": "display_data"
    }
   ],
   "source": [
    "fig, ax = plt.subplots(figsize=(10, 5))\n",
    "sns.regplot(x=y_preds2, y=y_test)"
   ]
  },
  {
   "cell_type": "markdown",
   "metadata": {},
   "source": [
    "## Ridge Regression"
   ]
  },
  {
   "cell_type": "code",
   "execution_count": 23,
   "metadata": {},
   "outputs": [
    {
     "name": "stdout",
     "output_type": "stream",
     "text": [
      "144.81182276745346\n"
     ]
    }
   ],
   "source": [
    "# Finding best ridge alpha\n",
    "ridge_alphas = np.logspace(0, 5, 200)\n",
    "\n",
    "optimal_ridge = RidgeCV(alphas=ridge_alphas, cv=5)\n",
    "optimal_ridge.fit(Z_train, y_train)\n",
    "\n",
    "print (optimal_ridge.alpha_)"
   ]
  },
  {
   "cell_type": "code",
   "execution_count": 24,
   "metadata": {},
   "outputs": [
    {
     "name": "stdout",
     "output_type": "stream",
     "text": [
      "Ridge training Cross Val Score: 0.8910664779176669\n"
     ]
    }
   ],
   "source": [
    "# Instantiate ridge regression\n",
    "ridge = Ridge(alpha=optimal_ridge.alpha_)\n",
    "\n",
    "ridge_scores = cross_val_score(ridge, Z_train, y_train, cv=5)\n",
    "\n",
    "print (f'Ridge training Cross Val Score: {np.mean(ridge_scores)}')"
   ]
  },
  {
   "cell_type": "code",
   "execution_count": 25,
   "metadata": {},
   "outputs": [
    {
     "name": "stdout",
     "output_type": "stream",
     "text": [
      "Ridge training score: 0.9166696132277032\n",
      "Ridge test score: 0.8781070104143515\n"
     ]
    }
   ],
   "source": [
    "# Scores for train and test data\n",
    "ridge.fit(Z_train, y_train)\n",
    "\n",
    "print (f'Ridge training score: {ridge.score(Z_train, y_train)}')\n",
    "print (f'Ridge test score: {ridge.score(Z_test, y_test)}')"
   ]
  },
  {
   "cell_type": "code",
   "execution_count": 26,
   "metadata": {},
   "outputs": [],
   "source": [
    "# Finding ridge predictions\n",
    "y_preds3 = ridge.predict(Z_test)"
   ]
  },
  {
   "cell_type": "code",
   "execution_count": 27,
   "metadata": {},
   "outputs": [
    {
     "data": {
      "text/plain": [
       "27530.573592881396"
      ]
     },
     "execution_count": 27,
     "metadata": {},
     "output_type": "execute_result"
    }
   ],
   "source": [
    "# Finding ridge RMSE\n",
    "mean_squared_error(y_test, y_preds3, squared=False)"
   ]
  },
  {
   "cell_type": "code",
   "execution_count": 28,
   "metadata": {
    "scrolled": true
   },
   "outputs": [
    {
     "data": {
      "text/plain": [
       "<AxesSubplot:ylabel='saleprice'>"
      ]
     },
     "execution_count": 28,
     "metadata": {},
     "output_type": "execute_result"
    },
    {
     "data": {
      "image/png": "[encoded data removed]",
      "text/plain": [
       "<Figure size 720x360 with 1 Axes>"
      ]
     },
     "metadata": {
      "needs_background": "light"
     },
     "output_type": "display_data"
    }
   ],
   "source": [
    "fig, ax = plt.subplots(figsize=(10, 5))\n",
    "sns.regplot(x=y_preds3, y=y_test)"
   ]
  },
  {
   "cell_type": "markdown",
   "metadata": {},
   "source": [
    "## Elastic Net Regression"
   ]
  },
  {
   "cell_type": "code",
   "execution_count": 29,
   "metadata": {},
   "outputs": [],
   "source": [
    "enet_model = ElasticNetCV(l1_ratio=0.7, cv=5)\n",
    "\n",
    "# Fit model using optimal alpha.\n",
    "enet_model = enet_model.fit(Z_train, y_train)"
   ]
  },
  {
   "cell_type": "code",
   "execution_count": 30,
   "metadata": {},
   "outputs": [
    {
     "name": "stdout",
     "output_type": "stream",
     "text": [
      "Elastic Net train score: 0.7784737549837683\n",
      "Elastic Net test score: 0.778763912398946\n"
     ]
    }
   ],
   "source": [
    "# Scores for train and test data\n",
    "print(f'Elastic Net train score: {enet_model.score(Z_train, y_train)}')\n",
    "print(f'Elastic Net test score: {enet_model.score(Z_test, y_test)}')"
   ]
  },
  {
   "cell_type": "code",
   "execution_count": 31,
   "metadata": {},
   "outputs": [],
   "source": [
    "# Finding elastic net predictions\n",
    "y_pred4 = enet_model.predict(Z_test)"
   ]
  },
  {
   "cell_type": "code",
   "execution_count": 32,
   "metadata": {},
   "outputs": [
    {
     "data": {
      "text/plain": [
       "37089.747807202395"
      ]
     },
     "execution_count": 32,
     "metadata": {},
     "output_type": "execute_result"
    }
   ],
   "source": [
    "# Finding elastic net RMSE\n",
    "mean_squared_error(y_test, y_pred4, squared=False)"
   ]
  },
  {
   "cell_type": "code",
   "execution_count": 33,
   "metadata": {
    "scrolled": true
   },
   "outputs": [
    {
     "data": {
      "text/plain": [
       "<AxesSubplot:ylabel='saleprice'>"
      ]
     },
     "execution_count": 33,
     "metadata": {},
     "output_type": "execute_result"
    },
    {
     "data": {
      "image/png": "[encoded data removed]",
      "text/plain": [
       "<Figure size 720x360 with 1 Axes>"
      ]
     },
     "metadata": {
      "needs_background": "light"
     },
     "output_type": "display_data"
    }
   ],
   "source": [
    "fig, ax = plt.subplots(figsize=(10, 5))\n",
    "sns.regplot(x=y_pred4, y=y_test)"
   ]
  },
  {
   "cell_type": "markdown",
   "metadata": {},
   "source": [
    "## Best fit model\n",
    "\n",
    "|Model|Train|Test|RMSE|\n",
    "|---|---|---|---|\n",
    "|Linear Regression|0.9416358536993957|0.8752164820021221|31144.75462351428|\n",
    "|Lasso Regression|0.9138052597918352|0.8752164820021221|27855.086293863355|\n",
    "|**Ridge Regression**|**0.9166696132277032**|**0.8781070104143515**|**27530.573592881396**|\n",
    "|Elastic Net Regression|0.7784737549837683|0.778763912398946|37089.747807202395|"
   ]
  },
  {
   "cell_type": "markdown",
   "metadata": {},
   "source": [
    "### Best model using test data set"
   ]
  },
  {
   "cell_type": "code",
   "execution_count": 34,
   "metadata": {
    "scrolled": true
   },
   "outputs": [
    {
     "data": {
      "text/plain": [
       "Index(['year_built', 'year_remod/add', 'mas_vnr_area', 'bsmtfin_sf_1',\n",
       "       'total_bsmt_sf', '1st_flr_sf', 'gr_liv_area', 'full_bath',\n",
       "       'totrms_abvgrd', 'fireplaces', 'garage_cars', 'garage_area',\n",
       "       'neighborhood_NridgHt', 'overall_qual_8', 'overall_qual_9',\n",
       "       'mas_vnr_type_None', 'exter_qual_Gd', 'exter_qual_TA',\n",
       "       'foundation_PConc', 'bsmt_qual_TA', 'bsmtfin_type_1_GLQ',\n",
       "       'kitchen_qual_TA', 'fireplace_qu_NA', 'garage_finish_Unf'],\n",
       "      dtype='object')"
      ]
     },
     "execution_count": 34,
     "metadata": {},
     "output_type": "execute_result"
    }
   ],
   "source": [
    "features.index"
   ]
  },
  {
   "cell_type": "code",
   "execution_count": 35,
   "metadata": {
    "scrolled": true
   },
   "outputs": [],
   "source": [
    "# Define X and y variables\n",
    "X2 = test_df[features.index]"
   ]
  },
  {
   "cell_type": "code",
   "execution_count": 36,
   "metadata": {
    "scrolled": false
   },
   "outputs": [],
   "source": [
    "poly2 = PolynomialFeatures(interaction_only=True, include_bias=False)\n",
    "X_poly2 = poly2.fit_transform(X2)"
   ]
  },
  {
   "cell_type": "code",
   "execution_count": 37,
   "metadata": {},
   "outputs": [],
   "source": [
    "# Standardization\n",
    "Z_test2 = ss.transform(X_poly2)"
   ]
  },
  {
   "cell_type": "code",
   "execution_count": 38,
   "metadata": {},
   "outputs": [],
   "source": [
    "# Standardization\n",
    "# Z_test2 = ss.transform(X_poly2)#"
   ]
  },
  {
   "cell_type": "code",
   "execution_count": 39,
   "metadata": {},
   "outputs": [
    {
     "name": "stdout",
     "output_type": "stream",
     "text": [
      "144.81182276745346\n"
     ]
    }
   ],
   "source": [
    "ridge_alphas = np.logspace(0, 5, 200)\n",
    "\n",
    "optimal_ridge = RidgeCV(alphas=ridge_alphas, cv=5)\n",
    "optimal_ridge.fit(Z_train, y_train)\n",
    "\n",
    "print (optimal_ridge.alpha_)"
   ]
  },
  {
   "cell_type": "code",
   "execution_count": 40,
   "metadata": {},
   "outputs": [],
   "source": [
    "ridge = Ridge(alpha=optimal_ridge.alpha_)\n",
    "ridge.fit(Z_train, y_train)\n",
    "\n",
    "ridge_scores = cross_val_score(ridge, Z_train, y_train, cv=5)"
   ]
  },
  {
   "cell_type": "code",
   "execution_count": 41,
   "metadata": {
    "scrolled": true
   },
   "outputs": [],
   "source": [
    "y_preds5 = ridge.predict(Z_test2)"
   ]
  },
  {
   "cell_type": "code",
   "execution_count": 42,
   "metadata": {},
   "outputs": [
    {
     "data": {
      "text/plain": [
       "878"
      ]
     },
     "execution_count": 42,
     "metadata": {},
     "output_type": "execute_result"
    }
   ],
   "source": [
    "len(y_preds5)"
   ]
  },
  {
   "cell_type": "code",
   "execution_count": 43,
   "metadata": {},
   "outputs": [],
   "source": [
    "submit_df = pd.DataFrame(test_df['id'])\n",
    "submit_df['SalePrice'] = y_preds5\n",
    "\n",
    "submit_df.to_csv('datasets/latest_sub.csv', index=False)"
   ]
  },
  {
   "cell_type": "code",
   "execution_count": 44,
   "metadata": {},
   "outputs": [
    {
     "data": {
      "text/plain": [
       "878"
      ]
     },
     "execution_count": 44,
     "metadata": {},
     "output_type": "execute_result"
    }
   ],
   "source": [
    "len(test_df)"
   ]
  },
  {
   "cell_type": "markdown",
   "metadata": {},
   "source": [
    "## Conclusion \n",
    "\n",
    "Based on the best fit model, I have identified the following features to increase the values of the of the sales price:\n",
    "- year_built\n",
    "- year_remod/add\n",
    "- mas_vnr_area\n",
    "- bsmtfin_sf_\n",
    "- total_bsmt_sf\n",
    "- bsmt_qual_TA\n",
    "- bsmtfin_type_1_GLQ\n",
    "- 1st_flr_sf\n",
    "- gr_liv_area\n",
    "- full_bath\n",
    "- totrms_abvgrd\n",
    "- fireplaces\n",
    "- garage_cars\n",
    "- garage_area\n",
    "- neighborhood_NridgHt\n",
    "- overall_qual_8\n",
    "- overall_qual_9\n",
    "- mas_vnr_type_None\n",
    "- exter_qual_Gd\n",
    "- exter_qual_TA\n",
    "- foundation_PConc\n",
    "- kitchen_qual_TA\n",
    "- fireplace_qu_NA\n",
    "- garage_finish_Unf\n",
    "\n",
    "Through observations and analysis, the Ridge model is the best performing model in terms of R2 scores and RMSE as compared to other model. The featured mentioned are the have the highest correlation to determine the factor of sales price. \n",
    "\n",
    "\n",
    "## Recommendations\n",
    "\n",
    "Most of the features are available when purchase the house and owners have no control over the given choice. Instead they can increase the sales price by targeting the functionality of the features such as increase the overall quality of the house to 8 - 9 or renovate the house with additional features|\n"
   ]
  },
  {
   "cell_type": "code",
   "execution_count": null,
   "metadata": {},
   "outputs": [],
   "source": []
  }
 ],
 "metadata": {
  "kernelspec": {
   "display_name": "Python 3",
   "language": "python",
   "name": "python3"
  },
  "language_info": {
   "codemirror_mode": {
    "name": "ipython",
    "version": 3
   },
   "file_extension": ".py",
   "mimetype": "text/x-python",
   "name": "python",
   "nbconvert_exporter": "python",
   "pygments_lexer": "ipython3",
   "version": "3.8.5"
  }
 },
 "nbformat": 4,
 "nbformat_minor": 4
}
