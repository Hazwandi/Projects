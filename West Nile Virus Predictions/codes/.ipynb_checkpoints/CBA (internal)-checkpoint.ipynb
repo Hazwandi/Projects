{
 "cells": [
  {
   "cell_type": "code",
   "execution_count": 16,
   "metadata": {},
   "outputs": [],
   "source": [
    "# Import libraries\n",
    "import pandas as pd\n",
    "import numpy as np\n",
    "import matplotlib.pyplot as plt\n",
    "import seaborn as sns\n",
    "import math\n",
    "import joblib\n",
    "\n",
    "from sklearn.neighbors import KernelDensity\n",
    "\n",
    "from sklearn.preprocessing import PolynomialFeatures\n",
    "from sklearn.model_selection import train_test_split, GridSearchCV, cross_val_score\n",
    "from sklearn.preprocessing import StandardScaler\n",
    "from sklearn.pipeline import Pipeline\n",
    "from sklearn.metrics import confusion_matrix, plot_confusion_matrix, plot_roc_curve, roc_auc_score, f1_score, accuracy_score, auc, precision_recall_curve\n",
    "\n",
    "from sklearn.linear_model import LogisticRegression\n",
    "from sklearn.neighbors import KNeighborsClassifier\n",
    "from sklearn.ensemble import RandomForestClassifier, AdaBoostClassifier, GradientBoostingClassifier\n",
    "\n",
    "from imblearn.over_sampling import SMOTE\n",
    "\n",
    "# ref: https://machinelearningmastery.com/types-of-classification-in-machine-learning/ \n",
    "\n",
    "pd.set_option('display.max_rows', 200)\n",
    "pd.set_option('display.max_columns', 200)"
   ]
  },
  {
   "cell_type": "markdown",
   "metadata": {},
   "source": [
    "### Cost benefit analysis"
   ]
  },
  {
   "cell_type": "markdown",
   "metadata": {},
   "source": [
    "**Overview**\n",
    "\n",
    "In this [study](https://www.sciencedaily.com/releases/2014/02/140210184713.htm), we understand that:\n",
    "- for a period of 14 years since the virus was first detected in New York, the WNV disease has cost a cumulative \\\\$778 million in health care expenditures and lost productivity (i.e. cost of approx. \\\\$56 million per year)\n",
    "- Although there is a likelihood of underestimation, over 37,000 WNV cases have been report in these 14 years (i.e. on average more than 2,600 cases per year) \n",
    "- On average, without taking into account inflation, cost (both medical and lost in productivity) per WNV case amount to approximately \\\\$21,000\n",
    "    \n",
    "If budget permits, it will be ideal to deploy mosquito control measures in the whole of Chicago daily throughout the year. However, we are aware that this method is not ideal in view of the cost involved. Even if budget is available, there will be a huge opportunity cost for not being able to set aside public funds for other use.  \n",
    "\n",
    "**Cost**\n",
    "\n",
    "On average, without taking into factors such as bulk discount, mosquito spray will cost \\\\$500 for every half acre per each time [(source)](https://www.fixr.com/costs/mosquito-control) or \\\\$182,500 for every half acre daily for the entire year. \n",
    "\n",
    "Having said that, it is not necessary to incur such expenses because of the opportunity cost involved. Besides, even though WNV can cause disease in humans, to-date, there is no evidence of WNV transmission from person to person [(source)](https://www.medicinenet.com/west_nile_encephalitis/article.htm).\n",
    "\n",
    "Hence, predictive modelling can be useful to guide decision makers when it comes to deploying mosquito control measures.\n",
    "\n",
    "**Benefit**\n",
    "\n",
    "By utilising the model developed, we predicted the following occurences:\n",
    "\n",
    "\n",
    "|Year       | Total locations  | Number of WNV cases predicted|Percentage of cases|\n",
    "|---------------|--------------|---|--|\n",
    "| 2008 |  30,498  | 3,806|13%|\n",
    "| 2010 |  36,557  | 4,408|12%|\n",
    "| 2012 |  27,115  | 4,866|18%|\n",
    "| 2014 |  22,123  | 4,050|18%|\n",
    "\n",
    "Overall, based on simple average, among all locations, WNV is likely to be present in 15\\% of the locations per year. So instead of costing \\\\$182,500 for every half acre per year, it will only cost us 15\\% of that amount, i.e. $27,375. The remaining 85\\% of the budget can be freed up for other critical use."
   ]
  },
  {
   "cell_type": "code",
   "execution_count": 5,
   "metadata": {},
   "outputs": [],
   "source": [
    "final = pd.read_csv('../assets/clean_data/final_test.csv')"
   ]
  },
  {
   "cell_type": "code",
   "execution_count": 25,
   "metadata": {},
   "outputs": [],
   "source": [
    "# final['year']"
   ]
  },
  {
   "cell_type": "code",
   "execution_count": 26,
   "metadata": {},
   "outputs": [],
   "source": [
    "# final.head(1)"
   ]
  },
  {
   "cell_type": "code",
   "execution_count": null,
   "metadata": {},
   "outputs": [],
   "source": [
    "# mos_wnv = merged[['species', 'nummosquitos', 'wnvpresent']].groupby(by='species').sum().reset_index()\n",
    "# print(mos_wnv)"
   ]
  },
  {
   "cell_type": "code",
   "execution_count": 23,
   "metadata": {},
   "outputs": [
    {
     "data": {
      "text/html": [
       "<div>\n",
       "<style scoped>\n",
       "    .dataframe tbody tr th:only-of-type {\n",
       "        vertical-align: middle;\n",
       "    }\n",
       "\n",
       "    .dataframe tbody tr th {\n",
       "        vertical-align: top;\n",
       "    }\n",
       "\n",
       "    .dataframe thead th {\n",
       "        text-align: right;\n",
       "    }\n",
       "</style>\n",
       "<table border=\"1\" class=\"dataframe\">\n",
       "  <thead>\n",
       "    <tr style=\"text-align: right;\">\n",
       "      <th></th>\n",
       "      <th>wnvpresent</th>\n",
       "    </tr>\n",
       "    <tr>\n",
       "      <th>year</th>\n",
       "      <th></th>\n",
       "    </tr>\n",
       "  </thead>\n",
       "  <tbody>\n",
       "    <tr>\n",
       "      <th>2008</th>\n",
       "      <td>3806</td>\n",
       "    </tr>\n",
       "    <tr>\n",
       "      <th>2010</th>\n",
       "      <td>4408</td>\n",
       "    </tr>\n",
       "    <tr>\n",
       "      <th>2012</th>\n",
       "      <td>4866</td>\n",
       "    </tr>\n",
       "    <tr>\n",
       "      <th>2014</th>\n",
       "      <td>4050</td>\n",
       "    </tr>\n",
       "  </tbody>\n",
       "</table>\n",
       "</div>"
      ],
      "text/plain": [
       "      wnvpresent\n",
       "year            \n",
       "2008        3806\n",
       "2010        4408\n",
       "2012        4866\n",
       "2014        4050"
      ]
     },
     "execution_count": 23,
     "metadata": {},
     "output_type": "execute_result"
    }
   ],
   "source": [
    "final[['year','wnvpresent']].groupby(by = 'year').sum()"
   ]
  },
  {
   "cell_type": "code",
   "execution_count": 24,
   "metadata": {},
   "outputs": [
    {
     "data": {
      "text/html": [
       "<div>\n",
       "<style scoped>\n",
       "    .dataframe tbody tr th:only-of-type {\n",
       "        vertical-align: middle;\n",
       "    }\n",
       "\n",
       "    .dataframe tbody tr th {\n",
       "        vertical-align: top;\n",
       "    }\n",
       "\n",
       "    .dataframe thead th {\n",
       "        text-align: right;\n",
       "    }\n",
       "</style>\n",
       "<table border=\"1\" class=\"dataframe\">\n",
       "  <thead>\n",
       "    <tr style=\"text-align: right;\">\n",
       "      <th></th>\n",
       "      <th>wnvpresent</th>\n",
       "    </tr>\n",
       "    <tr>\n",
       "      <th>year</th>\n",
       "      <th></th>\n",
       "    </tr>\n",
       "  </thead>\n",
       "  <tbody>\n",
       "    <tr>\n",
       "      <th>2008</th>\n",
       "      <td>30498</td>\n",
       "    </tr>\n",
       "    <tr>\n",
       "      <th>2010</th>\n",
       "      <td>36557</td>\n",
       "    </tr>\n",
       "    <tr>\n",
       "      <th>2012</th>\n",
       "      <td>27115</td>\n",
       "    </tr>\n",
       "    <tr>\n",
       "      <th>2014</th>\n",
       "      <td>22123</td>\n",
       "    </tr>\n",
       "  </tbody>\n",
       "</table>\n",
       "</div>"
      ],
      "text/plain": [
       "      wnvpresent\n",
       "year            \n",
       "2008       30498\n",
       "2010       36557\n",
       "2012       27115\n",
       "2014       22123"
      ]
     },
     "execution_count": 24,
     "metadata": {},
     "output_type": "execute_result"
    }
   ],
   "source": [
    "final[['year','wnvpresent']].groupby(by = 'year').count()"
   ]
  },
  {
   "cell_type": "code",
   "execution_count": null,
   "metadata": {},
   "outputs": [],
   "source": []
  }
 ],
 "metadata": {
  "kernelspec": {
   "display_name": "Python 3",
   "language": "python",
   "name": "python3"
  },
  "language_info": {
   "codemirror_mode": {
    "name": "ipython",
    "version": 3
   },
   "file_extension": ".py",
   "mimetype": "text/x-python",
   "name": "python",
   "nbconvert_exporter": "python",
   "pygments_lexer": "ipython3",
   "version": "3.8.3"
  }
 },
 "nbformat": 4,
 "nbformat_minor": 4
}
