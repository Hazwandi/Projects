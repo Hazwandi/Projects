{
 "cells": [
  {
   "cell_type": "code",
   "execution_count": 1,
   "metadata": {},
   "outputs": [
    {
     "name": "stdout",
     "output_type": "stream",
     "text": [
      "Requirement already satisfied: xgboost in c:\\users\\leemei\\anaconda3\\lib\\site-packages (1.4.2)\n",
      "Requirement already satisfied: numpy in c:\\users\\leemei\\anaconda3\\lib\\site-packages (from xgboost) (1.19.5)\n",
      "Requirement already satisfied: scipy in c:\\users\\leemei\\anaconda3\\lib\\site-packages (from xgboost) (1.5.0)\n"
     ]
    }
   ],
   "source": [
    "#Import libraries\n",
    "import pandas as pd\n",
    "import numpy as np\n",
    "import matplotlib.pyplot as plt\n",
    "import seaborn as sns\n",
    "import pickle\n",
    "# !pip install pandas-profiling\n",
    "# import pandas_profiling as pdp\n",
    "\n",
    "from sklearn.preprocessing import StandardScaler\n",
    "from sklearn.preprocessing import PolynomialFeatures\n",
    "from sklearn.model_selection import train_test_split, GridSearchCV, cross_val_score\n",
    "from sklearn.pipeline import Pipeline\n",
    "from sklearn.linear_model import LogisticRegression, LassoCV, Lasso\n",
    "from sklearn.metrics import (confusion_matrix, classification_report, plot_roc_curve, roc_auc_score, \n",
    "accuracy_score, precision_score, recall_score, f1_score, auc, precision_recall_curve, average_precision_score)\n",
    "\n",
    "from sklearn.tree import DecisionTreeClassifier\n",
    "from sklearn.ensemble import RandomForestClassifier, ExtraTreesClassifier, GradientBoostingClassifier, AdaBoostClassifier\n",
    "\n",
    "from sklearn.svm import SVC\n",
    "\n",
    "!pip install xgboost\n",
    "import xgboost as xgb\n",
    "from xgboost import XGBClassifier\n",
    "\n",
    "#!pip install imblearn\n",
    "import imblearn\n",
    "from imblearn.over_sampling import SMOTE\n",
    "\n",
    "pd.set_option('display.max_rows', 1000)\n",
    "pd.set_option('display.max_columns', 1000)\n",
    "\n",
    "from math import radians, cos, sin, asin, sqrt, atan2"
   ]
  },
  {
   "cell_type": "code",
   "execution_count": 2,
   "metadata": {},
   "outputs": [],
   "source": [
    "#load the datasets\n",
    "\n",
    "spray = pd.read_csv('../assets/clean_data/spray_clean(LM).csv')\n",
    "weather = pd.read_csv('../assets/clean_data/weather_clean(LM).csv')\n",
    "train = pd.read_csv('../assets/clean_data/train_clean(LM).csv')\n",
    "test = pd.read_csv('../assets/clean_data/test_clean(LM).csv')\n",
    "merged = pd.read_csv('../assets/clean_data/mergeddf(LM).csv')"
   ]
  },
  {
   "cell_type": "code",
   "execution_count": 3,
   "metadata": {},
   "outputs": [],
   "source": [
    "col_drop = ['date', \n",
    "            'address', \n",
    "            'species', \n",
    "            'block', \n",
    "            'street', \n",
    "            'trap', \n",
    "            'addressnumberandstreet', \n",
    "            'wnvpresent', \n",
    "            'nummosquitos', \n",
    "            'codesum', \n",
    "            'addressaccuracy', \n",
    "            'resultdir',\n",
    "            'wetbulb', \n",
    "            'cool',\n",
    "            'resultspeed',\n",
    "            'stnpressure',\n",
    "           'tmax',\n",
    "           'tmin',\n",
    "           'station',\n",
    "            'year']"
   ]
  },
  {
   "cell_type": "code",
   "execution_count": 4,
   "metadata": {},
   "outputs": [],
   "source": [
    "X = merged.drop(columns = col_drop)"
   ]
  },
  {
   "cell_type": "code",
   "execution_count": 5,
   "metadata": {},
   "outputs": [],
   "source": [
    "y = merged['wnvpresent']"
   ]
  },
  {
   "cell_type": "code",
   "execution_count": 6,
   "metadata": {},
   "outputs": [
    {
     "data": {
      "text/plain": [
       "Index(['latitude', 'longitude', 'month', 'week', 'dayofweek', 'tavg',\n",
       "       'dewpoint', 'heat', 'sunrise', 'sunset', 'preciptotal', 'sealevel',\n",
       "       'avgspeed'],\n",
       "      dtype='object')"
      ]
     },
     "execution_count": 6,
     "metadata": {},
     "output_type": "execute_result"
    }
   ],
   "source": [
    "X.columns"
   ]
  },
  {
   "cell_type": "code",
   "execution_count": 7,
   "metadata": {},
   "outputs": [],
   "source": [
    "X_train, X_test, y_train, y_test = train_test_split(X, y, stratify = y, random_state = 42, test_size = 0.3)"
   ]
  },
  {
   "cell_type": "code",
   "execution_count": 8,
   "metadata": {},
   "outputs": [],
   "source": [
    "def score_model(model,X_test,y_test):\n",
    "    preds = model.predict_proba(X_test)\n",
    "    pred_list =[]\n",
    "    \n",
    "    for x in preds:\n",
    "        pred_list.append(x[1])\n",
    "        \n",
    "    roc_score = roc_auc_score(y_test, pred_list)\n",
    "    return roc_score"
   ]
  },
  {
   "cell_type": "code",
   "execution_count": 9,
   "metadata": {},
   "outputs": [],
   "source": [
    "lr = LogisticRegression()"
   ]
  },
  {
   "cell_type": "code",
   "execution_count": 10,
   "metadata": {},
   "outputs": [],
   "source": [
    "ss = StandardScaler()\n",
    "\n",
    "ss.fit(X_train) \n",
    "\n",
    "X_train_ss = ss.transform(X_train)\n",
    "\n",
    "X_test_ss = ss.transform(X_test)"
   ]
  },
  {
   "cell_type": "code",
   "execution_count": 11,
   "metadata": {},
   "outputs": [
    {
     "data": {
      "text/plain": [
       "LogisticRegression()"
      ]
     },
     "execution_count": 11,
     "metadata": {},
     "output_type": "execute_result"
    }
   ],
   "source": [
    "lr.fit(X_train_ss, y_train)"
   ]
  },
  {
   "cell_type": "code",
   "execution_count": 12,
   "metadata": {},
   "outputs": [],
   "source": [
    "y_pred = lr.predict(X_test_ss)"
   ]
  },
  {
   "cell_type": "code",
   "execution_count": 13,
   "metadata": {},
   "outputs": [
    {
     "name": "stdout",
     "output_type": "stream",
     "text": [
      "Log reg AUC train score 0.7521683896968635\n"
     ]
    }
   ],
   "source": [
    "print('Log reg AUC train score', score_model(lr, X_train_ss, y_train) )"
   ]
  },
  {
   "cell_type": "code",
   "execution_count": 14,
   "metadata": {},
   "outputs": [
    {
     "name": "stdout",
     "output_type": "stream",
     "text": [
      "Log reg AUC test score 0.744779201556541\n"
     ]
    }
   ],
   "source": [
    "print('Log reg AUC test score', score_model(lr, X_test_ss, y_test) )"
   ]
  },
  {
   "cell_type": "code",
   "execution_count": 15,
   "metadata": {},
   "outputs": [],
   "source": [
    "coefs=lr.coef_[0]"
   ]
  },
  {
   "cell_type": "code",
   "execution_count": 16,
   "metadata": {},
   "outputs": [
    {
     "data": {
      "text/html": [
       "<div>\n",
       "<style scoped>\n",
       "    .dataframe tbody tr th:only-of-type {\n",
       "        vertical-align: middle;\n",
       "    }\n",
       "\n",
       "    .dataframe tbody tr th {\n",
       "        vertical-align: top;\n",
       "    }\n",
       "\n",
       "    .dataframe thead th {\n",
       "        text-align: right;\n",
       "    }\n",
       "</style>\n",
       "<table border=\"1\" class=\"dataframe\">\n",
       "  <thead>\n",
       "    <tr style=\"text-align: right;\">\n",
       "      <th></th>\n",
       "      <th>Coefficients</th>\n",
       "    </tr>\n",
       "  </thead>\n",
       "  <tbody>\n",
       "    <tr>\n",
       "      <th>sunset</th>\n",
       "      <td>1.933358</td>\n",
       "    </tr>\n",
       "    <tr>\n",
       "      <th>week</th>\n",
       "      <td>1.932660</td>\n",
       "    </tr>\n",
       "    <tr>\n",
       "      <th>sunrise</th>\n",
       "      <td>1.002423</td>\n",
       "    </tr>\n",
       "    <tr>\n",
       "      <th>dewpoint</th>\n",
       "      <td>0.478473</td>\n",
       "    </tr>\n",
       "    <tr>\n",
       "      <th>dayofweek</th>\n",
       "      <td>0.267039</td>\n",
       "    </tr>\n",
       "    <tr>\n",
       "      <th>sealevel</th>\n",
       "      <td>0.232647</td>\n",
       "    </tr>\n",
       "    <tr>\n",
       "      <th>tavg</th>\n",
       "      <td>0.170429</td>\n",
       "    </tr>\n",
       "    <tr>\n",
       "      <th>heat</th>\n",
       "      <td>0.075597</td>\n",
       "    </tr>\n",
       "    <tr>\n",
       "      <th>preciptotal</th>\n",
       "      <td>0.059039</td>\n",
       "    </tr>\n",
       "    <tr>\n",
       "      <th>avgspeed</th>\n",
       "      <td>0.020241</td>\n",
       "    </tr>\n",
       "    <tr>\n",
       "      <th>latitude</th>\n",
       "      <td>-0.107379</td>\n",
       "    </tr>\n",
       "    <tr>\n",
       "      <th>month</th>\n",
       "      <td>-0.176989</td>\n",
       "    </tr>\n",
       "    <tr>\n",
       "      <th>longitude</th>\n",
       "      <td>-0.397674</td>\n",
       "    </tr>\n",
       "  </tbody>\n",
       "</table>\n",
       "</div>"
      ],
      "text/plain": [
       "             Coefficients\n",
       "sunset           1.933358\n",
       "week             1.932660\n",
       "sunrise          1.002423\n",
       "dewpoint         0.478473\n",
       "dayofweek        0.267039\n",
       "sealevel         0.232647\n",
       "tavg             0.170429\n",
       "heat             0.075597\n",
       "preciptotal      0.059039\n",
       "avgspeed         0.020241\n",
       "latitude        -0.107379\n",
       "month           -0.176989\n",
       "longitude       -0.397674"
      ]
     },
     "execution_count": 16,
     "metadata": {},
     "output_type": "execute_result"
    }
   ],
   "source": [
    "coef = pd.DataFrame(lr.coef_[0], index = X.columns, columns = ['Coefficients']).sort_values(by = ['Coefficients'], ascending = False)\n",
    "\n",
    "coef"
   ]
  },
  {
   "cell_type": "code",
   "execution_count": 17,
   "metadata": {},
   "outputs": [],
   "source": [
    "RF = RandomForestClassifier(n_estimators = 1000, \n",
    "                            bootstrap=True, \n",
    "                            max_depth=5,\n",
    "                            max_features='auto',\n",
    "                            min_samples_leaf= 1, \n",
    "                            min_samples_split= 2)"
   ]
  },
  {
   "cell_type": "code",
   "execution_count": 18,
   "metadata": {},
   "outputs": [
    {
     "name": "stdout",
     "output_type": "stream",
     "text": [
      "RF AUC score 0.839101228879565\n"
     ]
    }
   ],
   "source": [
    "RF_model= RF.fit(X_train_ss, y_train)\n",
    "print('RF AUC score', score_model(RF_model,X_test_ss,y_test) )\n"
   ]
  },
  {
   "cell_type": "code",
   "execution_count": 19,
   "metadata": {},
   "outputs": [
    {
     "name": "stderr",
     "output_type": "stream",
     "text": [
      "C:\\Users\\Leemei\\Anaconda3\\lib\\site-packages\\xgboost\\sklearn.py:1146: UserWarning: The use of label encoder in XGBClassifier is deprecated and will be removed in a future release. To remove this warning, do the following: 1) Pass option use_label_encoder=False when constructing XGBClassifier object; and 2) Encode your labels (y) as integers starting with 0, i.e. 0, 1, 2, ..., [num_class - 1].\n",
      "  warnings.warn(label_encoder_deprecation_msg, UserWarning)\n"
     ]
    },
    {
     "name": "stdout",
     "output_type": "stream",
     "text": [
      "[08:36:46] WARNING: C:/Users/Administrator/workspace/xgboost-win64_release_1.4.0/src/learner.cc:1095: Starting in XGBoost 1.3.0, the default evaluation metric used with the objective 'binary:logistic' was changed from 'error' to 'logloss'. Explicitly set eval_metric if you'd like to restore the old behavior.\n"
     ]
    },
    {
     "data": {
      "text/plain": [
       "0.8407350597728454"
      ]
     },
     "execution_count": 19,
     "metadata": {},
     "output_type": "execute_result"
    }
   ],
   "source": [
    "model = XGBClassifier()\n",
    "xgm = model.fit(X_train_ss, y_train)\n",
    "score_model(xgm,X_test_ss,y_test)\n"
   ]
  },
  {
   "cell_type": "code",
   "execution_count": null,
   "metadata": {},
   "outputs": [],
   "source": []
  },
  {
   "cell_type": "code",
   "execution_count": null,
   "metadata": {},
   "outputs": [],
   "source": []
  },
  {
   "cell_type": "code",
   "execution_count": 21,
   "metadata": {},
   "outputs": [
    {
     "data": {
      "text/plain": [
       "(8610, 104)"
      ]
     },
     "execution_count": 21,
     "metadata": {},
     "output_type": "execute_result"
    }
   ],
   "source": [
    "poly = PolynomialFeatures(include_bias=False, degree=2)\n",
    "X_poly = poly.fit_transform(X)\n",
    "X_poly.shape"
   ]
  },
  {
   "cell_type": "code",
   "execution_count": 23,
   "metadata": {},
   "outputs": [
    {
     "data": {
      "text/plain": [
       "week dewpoint       0.142365\n",
       "dewpoint sunrise    0.141852\n",
       "month dewpoint      0.140553\n",
       "tavg sunrise        0.130722\n",
       "week tavg           0.129006\n",
       "month tavg          0.125870\n",
       "sunrise sunset      0.120361\n",
       "week sunset         0.113828\n",
       "month sunset        0.108562\n",
       "latitude week       0.099821\n",
       "dtype: float64"
      ]
     },
     "execution_count": 23,
     "metadata": {},
     "output_type": "execute_result"
    }
   ],
   "source": [
    "# Adds appropriate feature names to all polynomial features\n",
    "X_poly = pd.DataFrame(X_poly,columns=poly.get_feature_names(X.columns))\n",
    "\n",
    "# Generates list of poly feature correlations\n",
    "X_poly_corrs = X_poly.corrwith(y)\n",
    "\n",
    "# Shows features most highly correlated (positively) with target\n",
    "X_poly_corrs.sort_values(ascending=False).head(10)"
   ]
  },
  {
   "cell_type": "code",
   "execution_count": 22,
   "metadata": {},
   "outputs": [],
   "source": [
    "X_train_poly, X_test_poly, y_train, y_test = train_test_split(X_poly, y, stratify = y, random_state = 42, test_size = 0.3)"
   ]
  },
  {
   "cell_type": "code",
   "execution_count": 24,
   "metadata": {},
   "outputs": [],
   "source": [
    "ss = StandardScaler()\n",
    "\n",
    "ss.fit(X_train_poly) \n",
    "\n",
    "X_train_poly_ss = ss.transform(X_train_poly)\n",
    "\n",
    "X_test_poly_ss = ss.transform(X_test_poly)"
   ]
  },
  {
   "cell_type": "code",
   "execution_count": 25,
   "metadata": {},
   "outputs": [],
   "source": [
    "lr_poly = LogisticRegression()"
   ]
  },
  {
   "cell_type": "code",
   "execution_count": 26,
   "metadata": {},
   "outputs": [
    {
     "name": "stderr",
     "output_type": "stream",
     "text": [
      "C:\\Users\\Leemei\\Anaconda3\\lib\\site-packages\\sklearn\\linear_model\\_logistic.py:763: ConvergenceWarning: lbfgs failed to converge (status=1):\n",
      "STOP: TOTAL NO. of ITERATIONS REACHED LIMIT.\n",
      "\n",
      "Increase the number of iterations (max_iter) or scale the data as shown in:\n",
      "    https://scikit-learn.org/stable/modules/preprocessing.html\n",
      "Please also refer to the documentation for alternative solver options:\n",
      "    https://scikit-learn.org/stable/modules/linear_model.html#logistic-regression\n",
      "  n_iter_i = _check_optimize_result(\n"
     ]
    },
    {
     "data": {
      "text/plain": [
       "LogisticRegression()"
      ]
     },
     "execution_count": 26,
     "metadata": {},
     "output_type": "execute_result"
    }
   ],
   "source": [
    "lr_poly.fit(X_train_poly_ss, y_train)"
   ]
  },
  {
   "cell_type": "code",
   "execution_count": 27,
   "metadata": {},
   "outputs": [
    {
     "name": "stdout",
     "output_type": "stream",
     "text": [
      "Log reg poly AUC train score 0.8195302917469774\n"
     ]
    }
   ],
   "source": [
    "print('Log reg poly AUC train score', score_model(lr_poly, X_train_poly_ss, y_train) )"
   ]
  },
  {
   "cell_type": "code",
   "execution_count": 28,
   "metadata": {},
   "outputs": [
    {
     "name": "stdout",
     "output_type": "stream",
     "text": [
      "Log reg poly AUC test score 0.8219497347076413\n"
     ]
    }
   ],
   "source": [
    "print('Log reg poly AUC test score', score_model(lr_poly, X_test_poly_ss, y_test) )"
   ]
  },
  {
   "cell_type": "code",
   "execution_count": 29,
   "metadata": {},
   "outputs": [
    {
     "data": {
      "text/html": [
       "<div>\n",
       "<style scoped>\n",
       "    .dataframe tbody tr th:only-of-type {\n",
       "        vertical-align: middle;\n",
       "    }\n",
       "\n",
       "    .dataframe tbody tr th {\n",
       "        vertical-align: top;\n",
       "    }\n",
       "\n",
       "    .dataframe thead th {\n",
       "        text-align: right;\n",
       "    }\n",
       "</style>\n",
       "<table border=\"1\" class=\"dataframe\">\n",
       "  <thead>\n",
       "    <tr style=\"text-align: right;\">\n",
       "      <th></th>\n",
       "      <th>Coefficients</th>\n",
       "    </tr>\n",
       "  </thead>\n",
       "  <tbody>\n",
       "    <tr>\n",
       "      <th>week sunset</th>\n",
       "      <td>1.512644</td>\n",
       "    </tr>\n",
       "    <tr>\n",
       "      <th>sunrise sunset</th>\n",
       "      <td>1.484922</td>\n",
       "    </tr>\n",
       "    <tr>\n",
       "      <th>month sunset</th>\n",
       "      <td>1.431406</td>\n",
       "    </tr>\n",
       "    <tr>\n",
       "      <th>tavg avgspeed</th>\n",
       "      <td>1.322010</td>\n",
       "    </tr>\n",
       "    <tr>\n",
       "      <th>tavg preciptotal</th>\n",
       "      <td>1.127289</td>\n",
       "    </tr>\n",
       "    <tr>\n",
       "      <th>dayofweek avgspeed</th>\n",
       "      <td>0.965236</td>\n",
       "    </tr>\n",
       "    <tr>\n",
       "      <th>dewpoint preciptotal</th>\n",
       "      <td>0.831405</td>\n",
       "    </tr>\n",
       "    <tr>\n",
       "      <th>month dayofweek</th>\n",
       "      <td>0.706353</td>\n",
       "    </tr>\n",
       "    <tr>\n",
       "      <th>week dewpoint</th>\n",
       "      <td>0.700615</td>\n",
       "    </tr>\n",
       "    <tr>\n",
       "      <th>dewpoint sunrise</th>\n",
       "      <td>0.591295</td>\n",
       "    </tr>\n",
       "    <tr>\n",
       "      <th>week tavg</th>\n",
       "      <td>0.444763</td>\n",
       "    </tr>\n",
       "    <tr>\n",
       "      <th>dayofweek tavg</th>\n",
       "      <td>0.436125</td>\n",
       "    </tr>\n",
       "    <tr>\n",
       "      <th>heat avgspeed</th>\n",
       "      <td>0.377430</td>\n",
       "    </tr>\n",
       "    <tr>\n",
       "      <th>dewpoint avgspeed</th>\n",
       "      <td>0.366582</td>\n",
       "    </tr>\n",
       "    <tr>\n",
       "      <th>latitude week</th>\n",
       "      <td>0.342961</td>\n",
       "    </tr>\n",
       "    <tr>\n",
       "      <th>longitude avgspeed</th>\n",
       "      <td>0.334405</td>\n",
       "    </tr>\n",
       "    <tr>\n",
       "      <th>week</th>\n",
       "      <td>0.327014</td>\n",
       "    </tr>\n",
       "    <tr>\n",
       "      <th>dayofweek heat</th>\n",
       "      <td>0.296673</td>\n",
       "    </tr>\n",
       "    <tr>\n",
       "      <th>week heat</th>\n",
       "      <td>0.267582</td>\n",
       "    </tr>\n",
       "    <tr>\n",
       "      <th>longitude preciptotal</th>\n",
       "      <td>0.254840</td>\n",
       "    </tr>\n",
       "    <tr>\n",
       "      <th>latitude month</th>\n",
       "      <td>0.248596</td>\n",
       "    </tr>\n",
       "    <tr>\n",
       "      <th>week sealevel</th>\n",
       "      <td>0.247371</td>\n",
       "    </tr>\n",
       "    <tr>\n",
       "      <th>month</th>\n",
       "      <td>0.225640</td>\n",
       "    </tr>\n",
       "    <tr>\n",
       "      <th>longitude^2</th>\n",
       "      <td>0.222214</td>\n",
       "    </tr>\n",
       "    <tr>\n",
       "      <th>week preciptotal</th>\n",
       "      <td>0.220629</td>\n",
       "    </tr>\n",
       "    <tr>\n",
       "      <th>month avgspeed</th>\n",
       "      <td>0.219856</td>\n",
       "    </tr>\n",
       "    <tr>\n",
       "      <th>tavg sunrise</th>\n",
       "      <td>0.218471</td>\n",
       "    </tr>\n",
       "    <tr>\n",
       "      <th>heat sunrise</th>\n",
       "      <td>0.169800</td>\n",
       "    </tr>\n",
       "    <tr>\n",
       "      <th>month sealevel</th>\n",
       "      <td>0.165032</td>\n",
       "    </tr>\n",
       "    <tr>\n",
       "      <th>sunrise preciptotal</th>\n",
       "      <td>0.154943</td>\n",
       "    </tr>\n",
       "    <tr>\n",
       "      <th>month heat</th>\n",
       "      <td>0.154860</td>\n",
       "    </tr>\n",
       "    <tr>\n",
       "      <th>sunset sealevel</th>\n",
       "      <td>0.146618</td>\n",
       "    </tr>\n",
       "    <tr>\n",
       "      <th>latitude dayofweek</th>\n",
       "      <td>0.142171</td>\n",
       "    </tr>\n",
       "    <tr>\n",
       "      <th>dayofweek sealevel</th>\n",
       "      <td>0.139910</td>\n",
       "    </tr>\n",
       "    <tr>\n",
       "      <th>tavg sealevel</th>\n",
       "      <td>0.131733</td>\n",
       "    </tr>\n",
       "    <tr>\n",
       "      <th>month preciptotal</th>\n",
       "      <td>0.126286</td>\n",
       "    </tr>\n",
       "    <tr>\n",
       "      <th>heat^2</th>\n",
       "      <td>0.113679</td>\n",
       "    </tr>\n",
       "    <tr>\n",
       "      <th>week dayofweek</th>\n",
       "      <td>0.111767</td>\n",
       "    </tr>\n",
       "    <tr>\n",
       "      <th>dayofweek</th>\n",
       "      <td>0.108126</td>\n",
       "    </tr>\n",
       "    <tr>\n",
       "      <th>longitude heat</th>\n",
       "      <td>0.105482</td>\n",
       "    </tr>\n",
       "    <tr>\n",
       "      <th>longitude dewpoint</th>\n",
       "      <td>0.093013</td>\n",
       "    </tr>\n",
       "    <tr>\n",
       "      <th>tavg</th>\n",
       "      <td>0.079620</td>\n",
       "    </tr>\n",
       "    <tr>\n",
       "      <th>tavg sunset</th>\n",
       "      <td>0.062628</td>\n",
       "    </tr>\n",
       "    <tr>\n",
       "      <th>dewpoint^2</th>\n",
       "      <td>0.059436</td>\n",
       "    </tr>\n",
       "    <tr>\n",
       "      <th>latitude tavg</th>\n",
       "      <td>0.045302</td>\n",
       "    </tr>\n",
       "    <tr>\n",
       "      <th>latitude sunrise</th>\n",
       "      <td>0.040980</td>\n",
       "    </tr>\n",
       "    <tr>\n",
       "      <th>dayofweek sunset</th>\n",
       "      <td>0.039615</td>\n",
       "    </tr>\n",
       "    <tr>\n",
       "      <th>sunset</th>\n",
       "      <td>0.036714</td>\n",
       "    </tr>\n",
       "    <tr>\n",
       "      <th>sealevel</th>\n",
       "      <td>0.032777</td>\n",
       "    </tr>\n",
       "    <tr>\n",
       "      <th>sunrise</th>\n",
       "      <td>0.030958</td>\n",
       "    </tr>\n",
       "    <tr>\n",
       "      <th>week avgspeed</th>\n",
       "      <td>0.008129</td>\n",
       "    </tr>\n",
       "    <tr>\n",
       "      <th>latitude sunset</th>\n",
       "      <td>0.002235</td>\n",
       "    </tr>\n",
       "    <tr>\n",
       "      <th>dayofweek sunrise</th>\n",
       "      <td>0.001578</td>\n",
       "    </tr>\n",
       "    <tr>\n",
       "      <th>latitude sealevel</th>\n",
       "      <td>-0.002217</td>\n",
       "    </tr>\n",
       "    <tr>\n",
       "      <th>sealevel^2</th>\n",
       "      <td>-0.016915</td>\n",
       "    </tr>\n",
       "    <tr>\n",
       "      <th>latitude^2</th>\n",
       "      <td>-0.022213</td>\n",
       "    </tr>\n",
       "    <tr>\n",
       "      <th>longitude sunset</th>\n",
       "      <td>-0.033274</td>\n",
       "    </tr>\n",
       "    <tr>\n",
       "      <th>longitude sunrise</th>\n",
       "      <td>-0.035196</td>\n",
       "    </tr>\n",
       "    <tr>\n",
       "      <th>latitude longitude</th>\n",
       "      <td>-0.036715</td>\n",
       "    </tr>\n",
       "    <tr>\n",
       "      <th>dayofweek preciptotal</th>\n",
       "      <td>-0.046634</td>\n",
       "    </tr>\n",
       "    <tr>\n",
       "      <th>sunrise sealevel</th>\n",
       "      <td>-0.048022</td>\n",
       "    </tr>\n",
       "    <tr>\n",
       "      <th>longitude sealevel</th>\n",
       "      <td>-0.064437</td>\n",
       "    </tr>\n",
       "    <tr>\n",
       "      <th>latitude</th>\n",
       "      <td>-0.065913</td>\n",
       "    </tr>\n",
       "    <tr>\n",
       "      <th>longitude tavg</th>\n",
       "      <td>-0.074685</td>\n",
       "    </tr>\n",
       "    <tr>\n",
       "      <th>dewpoint sealevel</th>\n",
       "      <td>-0.084534</td>\n",
       "    </tr>\n",
       "    <tr>\n",
       "      <th>latitude heat</th>\n",
       "      <td>-0.096831</td>\n",
       "    </tr>\n",
       "    <tr>\n",
       "      <th>dewpoint</th>\n",
       "      <td>-0.101089</td>\n",
       "    </tr>\n",
       "    <tr>\n",
       "      <th>latitude dewpoint</th>\n",
       "      <td>-0.102820</td>\n",
       "    </tr>\n",
       "    <tr>\n",
       "      <th>longitude dayofweek</th>\n",
       "      <td>-0.111421</td>\n",
       "    </tr>\n",
       "    <tr>\n",
       "      <th>heat</th>\n",
       "      <td>-0.116708</td>\n",
       "    </tr>\n",
       "    <tr>\n",
       "      <th>heat sealevel</th>\n",
       "      <td>-0.158408</td>\n",
       "    </tr>\n",
       "    <tr>\n",
       "      <th>tavg heat</th>\n",
       "      <td>-0.162998</td>\n",
       "    </tr>\n",
       "    <tr>\n",
       "      <th>month dewpoint</th>\n",
       "      <td>-0.166848</td>\n",
       "    </tr>\n",
       "    <tr>\n",
       "      <th>dewpoint heat</th>\n",
       "      <td>-0.181079</td>\n",
       "    </tr>\n",
       "    <tr>\n",
       "      <th>month tavg</th>\n",
       "      <td>-0.186880</td>\n",
       "    </tr>\n",
       "    <tr>\n",
       "      <th>longitude</th>\n",
       "      <td>-0.208812</td>\n",
       "    </tr>\n",
       "    <tr>\n",
       "      <th>sunset avgspeed</th>\n",
       "      <td>-0.218192</td>\n",
       "    </tr>\n",
       "    <tr>\n",
       "      <th>sunrise avgspeed</th>\n",
       "      <td>-0.218465</td>\n",
       "    </tr>\n",
       "    <tr>\n",
       "      <th>longitude month</th>\n",
       "      <td>-0.232943</td>\n",
       "    </tr>\n",
       "    <tr>\n",
       "      <th>heat sunset</th>\n",
       "      <td>-0.233571</td>\n",
       "    </tr>\n",
       "    <tr>\n",
       "      <th>latitude preciptotal</th>\n",
       "      <td>-0.249842</td>\n",
       "    </tr>\n",
       "    <tr>\n",
       "      <th>preciptotal</th>\n",
       "      <td>-0.265621</td>\n",
       "    </tr>\n",
       "    <tr>\n",
       "      <th>preciptotal sealevel</th>\n",
       "      <td>-0.304979</td>\n",
       "    </tr>\n",
       "    <tr>\n",
       "      <th>tavg dewpoint</th>\n",
       "      <td>-0.320484</td>\n",
       "    </tr>\n",
       "    <tr>\n",
       "      <th>longitude week</th>\n",
       "      <td>-0.334238</td>\n",
       "    </tr>\n",
       "    <tr>\n",
       "      <th>latitude avgspeed</th>\n",
       "      <td>-0.345296</td>\n",
       "    </tr>\n",
       "    <tr>\n",
       "      <th>avgspeed</th>\n",
       "      <td>-0.347611</td>\n",
       "    </tr>\n",
       "    <tr>\n",
       "      <th>dewpoint sunset</th>\n",
       "      <td>-0.348299</td>\n",
       "    </tr>\n",
       "    <tr>\n",
       "      <th>sealevel avgspeed</th>\n",
       "      <td>-0.369077</td>\n",
       "    </tr>\n",
       "    <tr>\n",
       "      <th>avgspeed^2</th>\n",
       "      <td>-0.369907</td>\n",
       "    </tr>\n",
       "    <tr>\n",
       "      <th>sunset preciptotal</th>\n",
       "      <td>-0.467798</td>\n",
       "    </tr>\n",
       "    <tr>\n",
       "      <th>sunset^2</th>\n",
       "      <td>-0.534411</td>\n",
       "    </tr>\n",
       "    <tr>\n",
       "      <th>preciptotal avgspeed</th>\n",
       "      <td>-0.598535</td>\n",
       "    </tr>\n",
       "    <tr>\n",
       "      <th>tavg^2</th>\n",
       "      <td>-0.609905</td>\n",
       "    </tr>\n",
       "    <tr>\n",
       "      <th>sunrise^2</th>\n",
       "      <td>-0.857259</td>\n",
       "    </tr>\n",
       "    <tr>\n",
       "      <th>dayofweek dewpoint</th>\n",
       "      <td>-0.971847</td>\n",
       "    </tr>\n",
       "    <tr>\n",
       "      <th>week sunrise</th>\n",
       "      <td>-0.983799</td>\n",
       "    </tr>\n",
       "    <tr>\n",
       "      <th>preciptotal^2</th>\n",
       "      <td>-1.081444</td>\n",
       "    </tr>\n",
       "    <tr>\n",
       "      <th>week^2</th>\n",
       "      <td>-1.174629</td>\n",
       "    </tr>\n",
       "    <tr>\n",
       "      <th>month sunrise</th>\n",
       "      <td>-1.233470</td>\n",
       "    </tr>\n",
       "    <tr>\n",
       "      <th>month week</th>\n",
       "      <td>-1.326423</td>\n",
       "    </tr>\n",
       "    <tr>\n",
       "      <th>dayofweek^2</th>\n",
       "      <td>-1.390799</td>\n",
       "    </tr>\n",
       "    <tr>\n",
       "      <th>heat preciptotal</th>\n",
       "      <td>-1.513869</td>\n",
       "    </tr>\n",
       "    <tr>\n",
       "      <th>month^2</th>\n",
       "      <td>-1.579102</td>\n",
       "    </tr>\n",
       "  </tbody>\n",
       "</table>\n",
       "</div>"
      ],
      "text/plain": [
       "                       Coefficients\n",
       "week sunset                1.512644\n",
       "sunrise sunset             1.484922\n",
       "month sunset               1.431406\n",
       "tavg avgspeed              1.322010\n",
       "tavg preciptotal           1.127289\n",
       "dayofweek avgspeed         0.965236\n",
       "dewpoint preciptotal       0.831405\n",
       "month dayofweek            0.706353\n",
       "week dewpoint              0.700615\n",
       "dewpoint sunrise           0.591295\n",
       "week tavg                  0.444763\n",
       "dayofweek tavg             0.436125\n",
       "heat avgspeed              0.377430\n",
       "dewpoint avgspeed          0.366582\n",
       "latitude week              0.342961\n",
       "longitude avgspeed         0.334405\n",
       "week                       0.327014\n",
       "dayofweek heat             0.296673\n",
       "week heat                  0.267582\n",
       "longitude preciptotal      0.254840\n",
       "latitude month             0.248596\n",
       "week sealevel              0.247371\n",
       "month                      0.225640\n",
       "longitude^2                0.222214\n",
       "week preciptotal           0.220629\n",
       "month avgspeed             0.219856\n",
       "tavg sunrise               0.218471\n",
       "heat sunrise               0.169800\n",
       "month sealevel             0.165032\n",
       "sunrise preciptotal        0.154943\n",
       "month heat                 0.154860\n",
       "sunset sealevel            0.146618\n",
       "latitude dayofweek         0.142171\n",
       "dayofweek sealevel         0.139910\n",
       "tavg sealevel              0.131733\n",
       "month preciptotal          0.126286\n",
       "heat^2                     0.113679\n",
       "week dayofweek             0.111767\n",
       "dayofweek                  0.108126\n",
       "longitude heat             0.105482\n",
       "longitude dewpoint         0.093013\n",
       "tavg                       0.079620\n",
       "tavg sunset                0.062628\n",
       "dewpoint^2                 0.059436\n",
       "latitude tavg              0.045302\n",
       "latitude sunrise           0.040980\n",
       "dayofweek sunset           0.039615\n",
       "sunset                     0.036714\n",
       "sealevel                   0.032777\n",
       "sunrise                    0.030958\n",
       "week avgspeed              0.008129\n",
       "latitude sunset            0.002235\n",
       "dayofweek sunrise          0.001578\n",
       "latitude sealevel         -0.002217\n",
       "sealevel^2                -0.016915\n",
       "latitude^2                -0.022213\n",
       "longitude sunset          -0.033274\n",
       "longitude sunrise         -0.035196\n",
       "latitude longitude        -0.036715\n",
       "dayofweek preciptotal     -0.046634\n",
       "sunrise sealevel          -0.048022\n",
       "longitude sealevel        -0.064437\n",
       "latitude                  -0.065913\n",
       "longitude tavg            -0.074685\n",
       "dewpoint sealevel         -0.084534\n",
       "latitude heat             -0.096831\n",
       "dewpoint                  -0.101089\n",
       "latitude dewpoint         -0.102820\n",
       "longitude dayofweek       -0.111421\n",
       "heat                      -0.116708\n",
       "heat sealevel             -0.158408\n",
       "tavg heat                 -0.162998\n",
       "month dewpoint            -0.166848\n",
       "dewpoint heat             -0.181079\n",
       "month tavg                -0.186880\n",
       "longitude                 -0.208812\n",
       "sunset avgspeed           -0.218192\n",
       "sunrise avgspeed          -0.218465\n",
       "longitude month           -0.232943\n",
       "heat sunset               -0.233571\n",
       "latitude preciptotal      -0.249842\n",
       "preciptotal               -0.265621\n",
       "preciptotal sealevel      -0.304979\n",
       "tavg dewpoint             -0.320484\n",
       "longitude week            -0.334238\n",
       "latitude avgspeed         -0.345296\n",
       "avgspeed                  -0.347611\n",
       "dewpoint sunset           -0.348299\n",
       "sealevel avgspeed         -0.369077\n",
       "avgspeed^2                -0.369907\n",
       "sunset preciptotal        -0.467798\n",
       "sunset^2                  -0.534411\n",
       "preciptotal avgspeed      -0.598535\n",
       "tavg^2                    -0.609905\n",
       "sunrise^2                 -0.857259\n",
       "dayofweek dewpoint        -0.971847\n",
       "week sunrise              -0.983799\n",
       "preciptotal^2             -1.081444\n",
       "week^2                    -1.174629\n",
       "month sunrise             -1.233470\n",
       "month week                -1.326423\n",
       "dayofweek^2               -1.390799\n",
       "heat preciptotal          -1.513869\n",
       "month^2                   -1.579102"
      ]
     },
     "execution_count": 29,
     "metadata": {},
     "output_type": "execute_result"
    }
   ],
   "source": [
    "coefpoly = pd.DataFrame(lr_poly.coef_[0], index = X_poly.columns, columns = ['Coefficients']).sort_values(by = ['Coefficients'], ascending = False)\n",
    "\n",
    "coefpoly"
   ]
  },
  {
   "cell_type": "code",
   "execution_count": null,
   "metadata": {},
   "outputs": [],
   "source": []
  },
  {
   "cell_type": "code",
   "execution_count": null,
   "metadata": {},
   "outputs": [],
   "source": []
  }
 ],
 "metadata": {
  "kernelspec": {
   "display_name": "Python 3",
   "language": "python",
   "name": "python3"
  },
  "language_info": {
   "codemirror_mode": {
    "name": "ipython",
    "version": 3
   },
   "file_extension": ".py",
   "mimetype": "text/x-python",
   "name": "python",
   "nbconvert_exporter": "python",
   "pygments_lexer": "ipython3",
   "version": "3.8.3"
  }
 },
 "nbformat": 4,
 "nbformat_minor": 4
}
