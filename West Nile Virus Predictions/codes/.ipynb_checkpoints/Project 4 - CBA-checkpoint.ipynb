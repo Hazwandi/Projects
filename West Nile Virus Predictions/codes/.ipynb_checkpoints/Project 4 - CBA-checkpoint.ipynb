{
 "cells": [
  {
   "cell_type": "markdown",
   "metadata": {},
   "source": [
    "### Cost benefit analysis"
   ]
  },
  {
   "cell_type": "markdown",
   "metadata": {},
   "source": [
    "**Overview**\n",
    "\n",
    "In this [study](https://www.sciencedaily.com/releases/2014/02/140210184713.htm), we understand that:\n",
    "- for a period of 14 years since the virus was first detected in New York, the WNV disease has cost a cumulative \\\\$778 million in health care expenditures and lost productivity (i.e. cost of approx. \\\\$56 million per year)\n",
    "- Although there is a likelihood of underestimation, over 37,000 WNV cases have been report in these 14 years (i.e. on average more than 2,600 cases per year) \n",
    "- On average, without taking into account inflation, cost (both medical and lost in productivity) per WNV case amount to approximately \\\\$21,000\n",
    "    \n",
    "If budget permits, it will be ideal to deploy mosquito control measures in the whole of Chicago daily throughout the year. However, we are aware that this method is not ideal in view of the cost involved. Even if budget is available, there will be a huge opportunity cost for not being able to set aside public funds for other use.  \n",
    "\n",
    "**Cost**\n",
    "\n",
    "On average, without taking into factors such as bulk discount, mosquito spray will cost \\\\$500 for every half acre per each time [(source)](https://www.fixr.com/costs/mosquito-control) or \\\\$182,500 for every half acre daily for the entire year. \n",
    "\n",
    "Having said that, it is not necessary to incur such expenses because of the opportunity cost involved. Besides, even though WNV can cause disease in humans, to-date, there is no evidence of WNV transmission from person to person [(source)](https://www.medicinenet.com/west_nile_encephalitis/article.htm).\n",
    "\n",
    "Hence, predictive modelling can be useful to guide decision makers when it comes to deploying mosquito control measures.\n",
    "\n",
    "**Benefit**\n",
    "\n",
    "By utilising the model developed, we predicted the following occurences:\n",
    "\n",
    "\n",
    "|Year       | Total locations  | Number of WNV cases predicted|Percentage of cases|\n",
    "|---------------|--------------|---|--|\n",
    "| 2008 |  30,498  | 3,806|13%|\n",
    "| 2010 |  36,557  | 4,408|12%|\n",
    "| 2012 |  27,115  | 4,866|18%|\n",
    "| 2014 |  22,123  | 4,050|18%|\n",
    "\n",
    "Overall, based on simple average, among all locations, WNV is likely to be present in 15\\% of the locations per year. So instead of costing \\\\$182,500 for every half acre per year, it will only cost us 15\\% of that amount, i.e. $27,375. The remaining 85\\% of the budget can be freed up for other critical use."
   ]
  },
  {
   "cell_type": "code",
   "execution_count": null,
   "metadata": {},
   "outputs": [],
   "source": []
  }
 ],
 "metadata": {
  "kernelspec": {
   "display_name": "Python 3",
   "language": "python",
   "name": "python3"
  },
  "language_info": {
   "codemirror_mode": {
    "name": "ipython",
    "version": 3
   },
   "file_extension": ".py",
   "mimetype": "text/x-python",
   "name": "python",
   "nbconvert_exporter": "python",
   "pygments_lexer": "ipython3",
   "version": "3.8.3"
  }
 },
 "nbformat": 4,
 "nbformat_minor": 4
}
