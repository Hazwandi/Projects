{
 "cells": [
  {
   "cell_type": "markdown",
   "metadata": {},
   "source": [
    "# Introduction"
   ]
  },
  {
   "cell_type": "markdown",
   "metadata": {},
   "source": [
    "This notebook includes evaluation of modeling process to test the effectiveness against an unseen data - post that can potential determine from which subreddit it is from. Using the metrics of F1 and ROC score to check which is best to classify the predictions and test it on new datas."
   ]
  },
  {
   "cell_type": "markdown",
   "metadata": {},
   "source": [
    "## Import Libraries"
   ]
  },
  {
   "cell_type": "code",
   "execution_count": 1,
   "metadata": {},
   "outputs": [],
   "source": [
    "# library imports\n",
    "import pandas as pd\n",
    "import numpy as np\n",
    "import re\n",
    "import matplotlib.pyplot as plt\n",
    "\n",
    "# preprocessing imports\n",
    "from sklearn.feature_extraction.text import TfidfVectorizer, CountVectorizer\n",
    "\n",
    "# modeling imports\n",
    "from sklearn.model_selection import GridSearchCV, train_test_split, cross_val_score\n",
    "from sklearn.pipeline import Pipeline\n",
    "from sklearn.linear_model import LogisticRegression\n",
    "from sklearn.naive_bayes import MultinomialNB\n",
    "from sklearn.ensemble import RandomForestClassifier\n",
    "from sklearn.metrics import confusion_matrix, plot_confusion_matrix, accuracy_score, f1_score, plot_roc_curve, roc_auc_score"
   ]
  },
  {
   "cell_type": "code",
   "execution_count": 2,
   "metadata": {},
   "outputs": [],
   "source": [
    "# Import clean data\n",
    "df = pd.read_csv('./datasets/data_clean.csv')"
   ]
  },
  {
   "cell_type": "code",
   "execution_count": 3,
   "metadata": {},
   "outputs": [
    {
     "data": {
      "text/html": [
       "<div>\n",
       "<style scoped>\n",
       "    .dataframe tbody tr th:only-of-type {\n",
       "        vertical-align: middle;\n",
       "    }\n",
       "\n",
       "    .dataframe tbody tr th {\n",
       "        vertical-align: top;\n",
       "    }\n",
       "\n",
       "    .dataframe thead th {\n",
       "        text-align: right;\n",
       "    }\n",
       "</style>\n",
       "<table border=\"1\" class=\"dataframe\">\n",
       "  <thead>\n",
       "    <tr style=\"text-align: right;\">\n",
       "      <th></th>\n",
       "      <th>id</th>\n",
       "      <th>author</th>\n",
       "      <th>created_utc</th>\n",
       "      <th>subreddit</th>\n",
       "      <th>selftext</th>\n",
       "      <th>title</th>\n",
       "      <th>subreddit_labels</th>\n",
       "    </tr>\n",
       "  </thead>\n",
       "  <tbody>\n",
       "    <tr>\n",
       "      <th>0</th>\n",
       "      <td>l1n3vd</td>\n",
       "      <td>Jeffamazon</td>\n",
       "      <td>2021-01-21 00:52:21</td>\n",
       "      <td>GME</td>\n",
       "      <td>stumbl upon sub know exist join gme gang back ...</td>\n",
       "      <td>greet gme gang</td>\n",
       "      <td>0</td>\n",
       "    </tr>\n",
       "    <tr>\n",
       "      <th>1</th>\n",
       "      <td>l1wi6q</td>\n",
       "      <td>B1ake1</td>\n",
       "      <td>2021-01-21 11:13:54</td>\n",
       "      <td>GME</td>\n",
       "      <td>hold line share</td>\n",
       "      <td>rememb lad scare money make money</td>\n",
       "      <td>0</td>\n",
       "    </tr>\n",
       "    <tr>\n",
       "      <th>2</th>\n",
       "      <td>l22dsa</td>\n",
       "      <td>Dustin_James_Kid</td>\n",
       "      <td>2021-01-21 16:55:19</td>\n",
       "      <td>GME</td>\n",
       "      <td>i new tri learn stock scare know access info s...</td>\n",
       "      <td>know squeez happen</td>\n",
       "      <td>0</td>\n",
       "    </tr>\n",
       "    <tr>\n",
       "      <th>3</th>\n",
       "      <td>l22r5n</td>\n",
       "      <td>MailNurse</td>\n",
       "      <td>2021-01-21 17:11:48</td>\n",
       "      <td>GME</td>\n",
       "      <td>price sub</td>\n",
       "      <td>fuck reinforc</td>\n",
       "      <td>0</td>\n",
       "    </tr>\n",
       "    <tr>\n",
       "      <th>4</th>\n",
       "      <td>l2359i</td>\n",
       "      <td>imalwright</td>\n",
       "      <td>2021-01-21 17:29:43</td>\n",
       "      <td>GME</td>\n",
       "      <td>pick gme dip let u hope need hsa year i deep gme</td>\n",
       "      <td>pick</td>\n",
       "      <td>0</td>\n",
       "    </tr>\n",
       "  </tbody>\n",
       "</table>\n",
       "</div>"
      ],
      "text/plain": [
       "       id            author          created_utc subreddit  \\\n",
       "0  l1n3vd        Jeffamazon  2021-01-21 00:52:21       GME   \n",
       "1  l1wi6q            B1ake1  2021-01-21 11:13:54       GME   \n",
       "2  l22dsa  Dustin_James_Kid  2021-01-21 16:55:19       GME   \n",
       "3  l22r5n         MailNurse  2021-01-21 17:11:48       GME   \n",
       "4  l2359i        imalwright  2021-01-21 17:29:43       GME   \n",
       "\n",
       "                                            selftext  \\\n",
       "0  stumbl upon sub know exist join gme gang back ...   \n",
       "1                                    hold line share   \n",
       "2  i new tri learn stock scare know access info s...   \n",
       "3                                          price sub   \n",
       "4   pick gme dip let u hope need hsa year i deep gme   \n",
       "\n",
       "                               title  subreddit_labels  \n",
       "0                     greet gme gang                 0  \n",
       "1  rememb lad scare money make money                 0  \n",
       "2                 know squeez happen                 0  \n",
       "3                      fuck reinforc                 0  \n",
       "4                               pick                 0  "
      ]
     },
     "execution_count": 3,
     "metadata": {},
     "output_type": "execute_result"
    }
   ],
   "source": [
    "df.head()"
   ]
  },
  {
   "cell_type": "markdown",
   "metadata": {},
   "source": [
    "### Features"
   ]
  },
  {
   "cell_type": "code",
   "execution_count": 4,
   "metadata": {},
   "outputs": [],
   "source": [
    "# Define X and y features\n",
    "X = df[['selftext','title']]\n",
    "y = df['subreddit_labels']"
   ]
  },
  {
   "cell_type": "markdown",
   "metadata": {},
   "source": [
    "### Baseline Data Ratio"
   ]
  },
  {
   "cell_type": "code",
   "execution_count": 5,
   "metadata": {},
   "outputs": [
    {
     "data": {
      "image/png": "[encoded data removed]",
      "text/plain": [
       "<Figure size 576x432 with 1 Axes>"
      ]
     },
     "metadata": {
      "needs_background": "light"
     },
     "output_type": "display_data"
    }
   ],
   "source": [
    "# Check baseline of data\n",
    "plt.figure(figsize=(8, 6))\n",
    "y.value_counts(normalize = True).plot(kind='bar')\n",
    "\n",
    "# Graph descriptions\n",
    "positions = (0, 1)\n",
    "labels = (\"Dogecoin\", \"GME\")\n",
    "\n",
    "plt.title('Data Baseline Ratio')\n",
    "plt.xlabel('Subreddit')\n",
    "plt.ylabel('Percentage %')\n",
    "plt.xticks(positions, labels, rotation=0);"
   ]
  },
  {
   "cell_type": "markdown",
   "metadata": {},
   "source": [
    "### Split data to train and test"
   ]
  },
  {
   "cell_type": "code",
   "execution_count": 6,
   "metadata": {},
   "outputs": [],
   "source": [
    "# Train test split\n",
    "X_train, X_test, y_train, y_test = train_test_split(X, y, test_size=0.33, stratify=y, random_state=42)"
   ]
  },
  {
   "cell_type": "markdown",
   "metadata": {},
   "source": [
    "## Preliminary Exploratory Data Analysis"
   ]
  },
  {
   "cell_type": "markdown",
   "metadata": {},
   "source": [
    "### CountVectorizer - selftext"
   ]
  },
  {
   "cell_type": "code",
   "execution_count": 8,
   "metadata": {
    "scrolled": false
   },
   "outputs": [
    {
     "name": "stdout",
     "output_type": "stream",
     "text": [
      "13026\n"
     ]
    },
    {
     "data": {
      "image/png": "[encoded data removed]",
      "text/plain": [
       "<Figure size 576x432 with 1 Axes>"
      ]
     },
     "metadata": {
      "needs_background": "light"
     },
     "output_type": "display_data"
    }
   ],
   "source": [
    "# Identifying top words in 'selftext' using CountVectorizer with cleaned data\n",
    "\n",
    "# Instantiate CountVectorizer\n",
    "cvec = CountVectorizer(stop_words='english')\n",
    "\n",
    "# Fit df to transformer \n",
    "cvec.fit(X_train['selftext'])\n",
    "\n",
    "# Check total number of words\n",
    "len_features = len(cvec.get_feature_names())\n",
    "print(len_features)\n",
    "\n",
    "# Transform data and create a df\n",
    "df_cv = pd.DataFrame(cvec.transform(X_train['selftext']).todense(),columns=cvec.get_feature_names())\n",
    "\n",
    "# Visualize top 20 words in 'selftext'\n",
    "plt.figure(figsize=(8, 6))\n",
    "df_cv.sum().sort_values(ascending=False).head(20).plot(kind='barh', cmap='PiYG');\n",
    "plt.title('Top 20 words in Combined Subreddit - Post (CountVectorizer)');\n",
    "plt.xlabel('Frequency');\n",
    "plt.ylabel('Words');"
   ]
  },
  {
   "cell_type": "markdown",
   "metadata": {},
   "source": [
    "### TfidfVectorizer - selftext"
   ]
  },
  {
   "cell_type": "code",
   "execution_count": 9,
   "metadata": {},
   "outputs": [
    {
     "name": "stdout",
     "output_type": "stream",
     "text": [
      "13026\n"
     ]
    },
    {
     "data": {
      "image/png": "[encoded data removed]",
      "text/plain": [
       "<Figure size 576x432 with 1 Axes>"
      ]
     },
     "metadata": {
      "needs_background": "light"
     },
     "output_type": "display_data"
    }
   ],
   "source": [
    "# Identifying top words in 'selftext' using TfidVectorizer with cleaned data\n",
    "\n",
    "# Instantiate TfidVectorizer\n",
    "tvec = TfidfVectorizer(stop_words='english')\n",
    "\n",
    "# Fit df to transformer \n",
    "tvec.fit(X_train['selftext'])\n",
    "\n",
    "# Check total number of features\n",
    "len_features = len(tvec.get_feature_names())\n",
    "print(len_features)\n",
    "\n",
    "# Transform data and create a df\n",
    "df_tf_idf = pd.DataFrame(tvec.transform(X_train['selftext']).todense(),columns=tvec.get_feature_names())\n",
    "\n",
    "# Visualize top 20 words in 'selftext'\n",
    "plt.figure(figsize=(8, 6))\n",
    "df_tf_idf.sum().sort_values(ascending=False).head(20).plot(kind='barh', cmap='PiYG');\n",
    "plt.title('Top 20 words in Combined Subreddit - Post (TF_IDF)');\n",
    "plt.xlabel('Frequency');\n",
    "plt.ylabel('Words');"
   ]
  },
  {
   "cell_type": "markdown",
   "metadata": {},
   "source": [
    "##### Observations:\n",
    "- majority of the top words are similar for both data "
   ]
  },
  {
   "cell_type": "markdown",
   "metadata": {},
   "source": [
    "### CountVectorizer - title"
   ]
  },
  {
   "cell_type": "code",
   "execution_count": 10,
   "metadata": {},
   "outputs": [
    {
     "name": "stdout",
     "output_type": "stream",
     "text": [
      "3387\n"
     ]
    },
    {
     "data": {
      "image/png": "[encoded data removed]",
      "text/plain": [
       "<Figure size 576x432 with 1 Axes>"
      ]
     },
     "metadata": {
      "needs_background": "light"
     },
     "output_type": "display_data"
    }
   ],
   "source": [
    "# Identifying top words in 'title' using CountVectorizer with cleaned data\n",
    "\n",
    "# CountVectorizer instatiate earlier \n",
    "# Fit df to transformer\n",
    "cvec.fit(X_train['title'])\n",
    "\n",
    "# Check total number of features\n",
    "len_features = len(cvec.get_feature_names())\n",
    "print(len_features)\n",
    "\n",
    "# Transform data and create a df\n",
    "df_cv2 = pd.DataFrame(cvec.transform(X_train['title']).todense(),columns=cvec.get_feature_names())\n",
    "\n",
    "# Visualize top 20 words in ' title'\n",
    "plt.figure(figsize=(8, 6))\n",
    "df_cv2.sum().sort_values(ascending=False).head(20).plot(kind='barh');\n",
    "plt.title('Top 20 words in Combined Subreddit - Title (CountVectorizer)');\n",
    "plt.xlabel('Frequency');\n",
    "plt.ylabel('Words');"
   ]
  },
  {
   "cell_type": "markdown",
   "metadata": {},
   "source": [
    "### TfidfVectorizer - title"
   ]
  },
  {
   "cell_type": "code",
   "execution_count": 11,
   "metadata": {
    "scrolled": false
   },
   "outputs": [
    {
     "name": "stdout",
     "output_type": "stream",
     "text": [
      "3387\n"
     ]
    },
    {
     "data": {
      "image/png": "[encoded data removed]",
      "text/plain": [
       "<Figure size 576x432 with 1 Axes>"
      ]
     },
     "metadata": {
      "needs_background": "light"
     },
     "output_type": "display_data"
    }
   ],
   "source": [
    "# Identifying top words in 'title' using TfidVectorizer with cleaned data\n",
    "\n",
    "# TfidVectorizer instatiate earlier \n",
    "# Fit df to transformer \n",
    "tvec.fit(X_train['title'])\n",
    "\n",
    "# Check total number of features\n",
    "len_features = len(tvec.get_feature_names())\n",
    "print(len_features)\n",
    "\n",
    "# Transform data and create a df\n",
    "df_tf_idf2 = pd.DataFrame(tvec.transform(X_train['title']).todense(),columns=tvec.get_feature_names())\n",
    "\n",
    "# Visualize top 20 words in 'title'\n",
    "plt.figure(figsize=(8, 6))\n",
    "df_tf_idf2.sum().sort_values(ascending=False).head(20).plot(kind='barh');\n",
    "plt.title('Top 20 words in Combined Subreddit - Post (TF_IDF)');\n",
    "plt.xlabel('Frequency');\n",
    "plt.ylabel('Words');"
   ]
  },
  {
   "cell_type": "markdown",
   "metadata": {},
   "source": [
    "## Model Preprocessing - Selftext"
   ]
  },
  {
   "cell_type": "markdown",
   "metadata": {},
   "source": [
    "Perform gridsearch for transformers (CountVectorizer or TfidVectorizer) to determine which type of transformer and its parameter that best suit a base model for classification problems"
   ]
  },
  {
   "cell_type": "code",
   "execution_count": 12,
   "metadata": {},
   "outputs": [],
   "source": [
    "# Create dataframe to store result of gridsearch for transformers\n",
    "results = pd.DataFrame(columns=['model','best_params','train_score','test_score'])"
   ]
  },
  {
   "cell_type": "code",
   "execution_count": 13,
   "metadata": {},
   "outputs": [],
   "source": [
    "# List of models\n",
    "models = ['nb', 'logreg', 'rf']"
   ]
  },
  {
   "cell_type": "markdown",
   "metadata": {},
   "source": [
    "### CountVectorizer"
   ]
  },
  {
   "cell_type": "code",
   "execution_count": 14,
   "metadata": {},
   "outputs": [],
   "source": [
    "# list of transfomer and models to include in the pipeline\n",
    "list_pipes_cv = [ \n",
    "    [('cv',CountVectorizer()),('nb',MultinomialNB())],\n",
    "    [('cv',CountVectorizer()),('logreg',LogisticRegression())],\n",
    "    [('cv',CountVectorizer()),('rf',RandomForestClassifier())]\n",
    "]"
   ]
  },
  {
   "cell_type": "code",
   "execution_count": 15,
   "metadata": {},
   "outputs": [],
   "source": [
    "# Set hyperparameters for CountVectorizer()\n",
    "pipe_params_cv = [\n",
    "    {\"cv__stop_words\":['english'], \"cv__ngram_range\":[(1,1),(1,2)], \"cv__min_df\":[1, 2, 3, 4, 5]},\n",
    "    {\"cv__stop_words\":['english'], \"cv__ngram_range\":[(1,1),(1,2)], \"cv__min_df\":[1, 2, 3, 4, 5]},\n",
    "    {\"cv__stop_words\":['english'], \"cv__ngram_range\":[(1,1),(1,2)], \"cv__min_df\":[1, 2, 3, 4, 5]}\n",
    "]"
   ]
  },
  {
   "cell_type": "code",
   "execution_count": 16,
   "metadata": {},
   "outputs": [
    {
     "name": "stdout",
     "output_type": "stream",
     "text": [
      "--------------------------------------------------------------------------------\n",
      "Pipeline(steps=[('cv', CountVectorizer()), ('nb', MultinomialNB())])\n",
      "Train score: 0.9219562955254943\n",
      "Test score: 0.8722280887011615\n",
      "\n",
      "Best parameters are: {'cv__min_df': 1, 'cv__ngram_range': (1, 1), 'cv__stop_words': 'english'}\n",
      "--------------------------------------------------------------------------------\n",
      "Pipeline(steps=[('cv', CountVectorizer()), ('logreg', LogisticRegression())])\n",
      "Train score: 0.9334027055150884\n",
      "Test score: 0.8637803590285111\n",
      "\n",
      "Best parameters are: {'cv__min_df': 5, 'cv__ngram_range': (1, 1), 'cv__stop_words': 'english'}\n",
      "--------------------------------------------------------------------------------\n",
      "Pipeline(steps=[('cv', CountVectorizer()), ('rf', RandomForestClassifier())])\n",
      "Train score: 0.992542490461325\n",
      "Test score: 0.8651883139739528\n",
      "\n",
      "Best parameters are: {'cv__min_df': 1, 'cv__ngram_range': (1, 1), 'cv__stop_words': 'english'}\n"
     ]
    }
   ],
   "source": [
    "# To identify best CountVectorizer for each base models\n",
    "for i in range(len(list_pipes_cv)): # Loop to identify index for list pipes\n",
    "    pipe = Pipeline(steps=list_pipes_cv[i]) # Instantiate pipeline\n",
    "    gs = GridSearchCV(pipe, pipe_params_cv[i], cv=5) # Instantiate GridSearchCV\n",
    "    \n",
    "    # Storing results temporarily in loop\n",
    "    temp = {}\n",
    "    \n",
    "    # Fit GridSearchCV\n",
    "    gs.fit(X_train['selftext'], y_train)\n",
    "    \n",
    "    # Assign results to dictionary and append to dataframe - results\n",
    "    temp['model'] = models[i]\n",
    "    temp['best_params'] = gs.best_params_\n",
    "    temp['train_score'] = gs.score(X_train['selftext'], y_train)\n",
    "    temp['test_score'] = gs.score(X_test['selftext'], y_test)\n",
    "    results = results.append(temp, ignore_index=True)\n",
    "    \n",
    "    print ('--------------------------------------------------------------------------------')\n",
    "    print (pipe)\n",
    "    print (f'Train score: {temp[\"train_score\"]}')\n",
    "    print (f'Test score: {temp[\"test_score\"]}')\n",
    "    print ('')\n",
    "    print(f'Best parameters are: {temp[\"best_params\"]}')"
   ]
  },
  {
   "cell_type": "markdown",
   "metadata": {},
   "source": [
    "### TfidfVectorizer"
   ]
  },
  {
   "cell_type": "code",
   "execution_count": 17,
   "metadata": {},
   "outputs": [],
   "source": [
    "# list of transfomer and models to include in the pipeline\n",
    "list_pipes_tf = [ \n",
    "    [('tf',TfidfVectorizer()),('nb',MultinomialNB())],\n",
    "    [('tf',TfidfVectorizer()),('logreg',LogisticRegression())],\n",
    "    [('tf',TfidfVectorizer()),('rf',RandomForestClassifier())]\n",
    "]"
   ]
  },
  {
   "cell_type": "code",
   "execution_count": 18,
   "metadata": {},
   "outputs": [],
   "source": [
    "# Set hyperparameters for TfidfVectorizer()\n",
    "pipe_params_tf = [\n",
    "    {\"tf__stop_words\":['english'], \"tf__ngram_range\":[(1,1),(1,2)], \"tf__min_df\":[1, 2, 3, 4, 5]},\n",
    "    {\"tf__stop_words\":['english'], \"tf__ngram_range\":[(1,1),(1,2)], \"tf__min_df\":[1, 2, 3, 4, 5]},\n",
    "    {\"tf__stop_words\":['english'], \"tf__ngram_range\":[(1,1),(1,2)], \"tf__min_df\":[1, 2, 3, 4, 5]}\n",
    "]"
   ]
  },
  {
   "cell_type": "code",
   "execution_count": 19,
   "metadata": {},
   "outputs": [
    {
     "name": "stdout",
     "output_type": "stream",
     "text": [
      "--------------------------------------------------------------------------------\n",
      "Pipeline(steps=[('tf', TfidfVectorizer()), ('nb', MultinomialNB())])\n",
      "Train score: 0.8928199791883454\n",
      "Test score: 0.8627243928194298\n",
      "\n",
      "Best parameters are: {'tf__min_df': 5, 'tf__ngram_range': (1, 1), 'tf__stop_words': 'english'}\n",
      "--------------------------------------------------------------------------------\n",
      "Pipeline(steps=[('tf', TfidfVectorizer()), ('logreg', LogisticRegression())])\n",
      "Train score: 0.9079084287200833\n",
      "Test score: 0.8655403027103132\n",
      "\n",
      "Best parameters are: {'tf__min_df': 4, 'tf__ngram_range': (1, 1), 'tf__stop_words': 'english'}\n",
      "--------------------------------------------------------------------------------\n",
      "Pipeline(steps=[('tf', TfidfVectorizer()), ('rf', RandomForestClassifier())])\n",
      "Train score: 0.9861255636489767\n",
      "Test score: 0.8718760999648011\n",
      "\n",
      "Best parameters are: {'tf__min_df': 2, 'tf__ngram_range': (1, 1), 'tf__stop_words': 'english'}\n"
     ]
    }
   ],
   "source": [
    "# To identify best TfiVectorizer for each base models\n",
    "for i in range(len(list_pipes_tf)): # Loop to identify index for list pipes\n",
    "    pipe = Pipeline(steps=list_pipes_tf[i]) # Instantiate pipeline\n",
    "    gs = GridSearchCV(pipe, pipe_params_tf[i], cv=5) # Instantiate GridSearchCV\n",
    "    \n",
    "    # Storing results temporarily in loop\n",
    "    temp = {}\n",
    "\n",
    "    # Fit GridSearchCV\n",
    "    gs.fit(X_train['selftext'], y_train)\n",
    "    \n",
    "    # Assign results to dictionary and append to dataframe - results\n",
    "    temp['model'] = models[i]\n",
    "    temp['best_params'] = gs.best_params_\n",
    "    temp['train_score'] = gs.score(X_train['selftext'], y_train)\n",
    "    temp['test_score'] = gs.score(X_test['selftext'], y_test)\n",
    "    results = results.append(temp, ignore_index=True)\n",
    "    \n",
    "    print ('--------------------------------------------------------------------------------')\n",
    "    print (pipe)\n",
    "    print (f'Train score: {temp[\"train_score\"]}')\n",
    "    print (f'Test score: {temp[\"test_score\"]}')\n",
    "    print ('')\n",
    "    print(f'Best parameters are: {temp[\"best_params\"]}')"
   ]
  },
  {
   "cell_type": "markdown",
   "metadata": {},
   "source": [
    "### Results of best transformer"
   ]
  },
  {
   "cell_type": "code",
   "execution_count": 20,
   "metadata": {},
   "outputs": [],
   "source": [
    "# Create a column to see the difference in train and test score for each transformer\n",
    "results['variance'] =  results['train_score'] - results['test_score']"
   ]
  },
  {
   "cell_type": "code",
   "execution_count": 21,
   "metadata": {},
   "outputs": [
    {
     "data": {
      "text/html": [
       "<div>\n",
       "<style scoped>\n",
       "    .dataframe tbody tr th:only-of-type {\n",
       "        vertical-align: middle;\n",
       "    }\n",
       "\n",
       "    .dataframe tbody tr th {\n",
       "        vertical-align: top;\n",
       "    }\n",
       "\n",
       "    .dataframe thead th {\n",
       "        text-align: right;\n",
       "    }\n",
       "</style>\n",
       "<table border=\"1\" class=\"dataframe\">\n",
       "  <thead>\n",
       "    <tr style=\"text-align: right;\">\n",
       "      <th></th>\n",
       "      <th>model</th>\n",
       "      <th>best_params</th>\n",
       "      <th>train_score</th>\n",
       "      <th>test_score</th>\n",
       "      <th>variance</th>\n",
       "    </tr>\n",
       "  </thead>\n",
       "  <tbody>\n",
       "    <tr>\n",
       "      <th>0</th>\n",
       "      <td>nb</td>\n",
       "      <td>{'cv__min_df': 1, 'cv__ngram_range': (1, 1), '...</td>\n",
       "      <td>0.921956</td>\n",
       "      <td>0.872228</td>\n",
       "      <td>0.049728</td>\n",
       "    </tr>\n",
       "    <tr>\n",
       "      <th>1</th>\n",
       "      <td>logreg</td>\n",
       "      <td>{'cv__min_df': 5, 'cv__ngram_range': (1, 1), '...</td>\n",
       "      <td>0.933403</td>\n",
       "      <td>0.863780</td>\n",
       "      <td>0.069622</td>\n",
       "    </tr>\n",
       "    <tr>\n",
       "      <th>2</th>\n",
       "      <td>rf</td>\n",
       "      <td>{'cv__min_df': 1, 'cv__ngram_range': (1, 1), '...</td>\n",
       "      <td>0.992542</td>\n",
       "      <td>0.865188</td>\n",
       "      <td>0.127354</td>\n",
       "    </tr>\n",
       "    <tr>\n",
       "      <th>3</th>\n",
       "      <td>nb</td>\n",
       "      <td>{'tf__min_df': 5, 'tf__ngram_range': (1, 1), '...</td>\n",
       "      <td>0.892820</td>\n",
       "      <td>0.862724</td>\n",
       "      <td>0.030096</td>\n",
       "    </tr>\n",
       "    <tr>\n",
       "      <th>4</th>\n",
       "      <td>logreg</td>\n",
       "      <td>{'tf__min_df': 4, 'tf__ngram_range': (1, 1), '...</td>\n",
       "      <td>0.907908</td>\n",
       "      <td>0.865540</td>\n",
       "      <td>0.042368</td>\n",
       "    </tr>\n",
       "    <tr>\n",
       "      <th>5</th>\n",
       "      <td>rf</td>\n",
       "      <td>{'tf__min_df': 2, 'tf__ngram_range': (1, 1), '...</td>\n",
       "      <td>0.986126</td>\n",
       "      <td>0.871876</td>\n",
       "      <td>0.114249</td>\n",
       "    </tr>\n",
       "  </tbody>\n",
       "</table>\n",
       "</div>"
      ],
      "text/plain": [
       "    model                                        best_params  train_score  \\\n",
       "0      nb  {'cv__min_df': 1, 'cv__ngram_range': (1, 1), '...     0.921956   \n",
       "1  logreg  {'cv__min_df': 5, 'cv__ngram_range': (1, 1), '...     0.933403   \n",
       "2      rf  {'cv__min_df': 1, 'cv__ngram_range': (1, 1), '...     0.992542   \n",
       "3      nb  {'tf__min_df': 5, 'tf__ngram_range': (1, 1), '...     0.892820   \n",
       "4  logreg  {'tf__min_df': 4, 'tf__ngram_range': (1, 1), '...     0.907908   \n",
       "5      rf  {'tf__min_df': 2, 'tf__ngram_range': (1, 1), '...     0.986126   \n",
       "\n",
       "   test_score  variance  \n",
       "0    0.872228  0.049728  \n",
       "1    0.863780  0.069622  \n",
       "2    0.865188  0.127354  \n",
       "3    0.862724  0.030096  \n",
       "4    0.865540  0.042368  \n",
       "5    0.871876  0.114249  "
      ]
     },
     "execution_count": 21,
     "metadata": {},
     "output_type": "execute_result"
    }
   ],
   "source": [
    "results"
   ]
  },
  {
   "cell_type": "code",
   "execution_count": 22,
   "metadata": {},
   "outputs": [
    {
     "data": {
      "text/html": [
       "<div>\n",
       "<style scoped>\n",
       "    .dataframe tbody tr th:only-of-type {\n",
       "        vertical-align: middle;\n",
       "    }\n",
       "\n",
       "    .dataframe tbody tr th {\n",
       "        vertical-align: top;\n",
       "    }\n",
       "\n",
       "    .dataframe thead th {\n",
       "        text-align: right;\n",
       "    }\n",
       "</style>\n",
       "<table border=\"1\" class=\"dataframe\">\n",
       "  <thead>\n",
       "    <tr style=\"text-align: right;\">\n",
       "      <th></th>\n",
       "      <th>model</th>\n",
       "      <th>best_params</th>\n",
       "      <th>train_score</th>\n",
       "      <th>test_score</th>\n",
       "      <th>variance</th>\n",
       "    </tr>\n",
       "  </thead>\n",
       "  <tbody>\n",
       "    <tr>\n",
       "      <th>0</th>\n",
       "      <td>nb</td>\n",
       "      <td>{'cv__min_df': 1, 'cv__ngram_range': (1, 1), '...</td>\n",
       "      <td>0.921956</td>\n",
       "      <td>0.872228</td>\n",
       "      <td>0.049728</td>\n",
       "    </tr>\n",
       "    <tr>\n",
       "      <th>3</th>\n",
       "      <td>nb</td>\n",
       "      <td>{'tf__min_df': 5, 'tf__ngram_range': (1, 1), '...</td>\n",
       "      <td>0.892820</td>\n",
       "      <td>0.862724</td>\n",
       "      <td>0.030096</td>\n",
       "    </tr>\n",
       "  </tbody>\n",
       "</table>\n",
       "</div>"
      ],
      "text/plain": [
       "  model                                        best_params  train_score  \\\n",
       "0    nb  {'cv__min_df': 1, 'cv__ngram_range': (1, 1), '...     0.921956   \n",
       "3    nb  {'tf__min_df': 5, 'tf__ngram_range': (1, 1), '...     0.892820   \n",
       "\n",
       "   test_score  variance  \n",
       "0    0.872228  0.049728  \n",
       "3    0.862724  0.030096  "
      ]
     },
     "execution_count": 22,
     "metadata": {},
     "output_type": "execute_result"
    }
   ],
   "source": [
    "results[results['model'] == 'nb']"
   ]
  },
  {
   "cell_type": "code",
   "execution_count": 23,
   "metadata": {},
   "outputs": [
    {
     "data": {
      "text/html": [
       "<div>\n",
       "<style scoped>\n",
       "    .dataframe tbody tr th:only-of-type {\n",
       "        vertical-align: middle;\n",
       "    }\n",
       "\n",
       "    .dataframe tbody tr th {\n",
       "        vertical-align: top;\n",
       "    }\n",
       "\n",
       "    .dataframe thead th {\n",
       "        text-align: right;\n",
       "    }\n",
       "</style>\n",
       "<table border=\"1\" class=\"dataframe\">\n",
       "  <thead>\n",
       "    <tr style=\"text-align: right;\">\n",
       "      <th></th>\n",
       "      <th>model</th>\n",
       "      <th>best_params</th>\n",
       "      <th>train_score</th>\n",
       "      <th>test_score</th>\n",
       "      <th>variance</th>\n",
       "    </tr>\n",
       "  </thead>\n",
       "  <tbody>\n",
       "    <tr>\n",
       "      <th>1</th>\n",
       "      <td>logreg</td>\n",
       "      <td>{'cv__min_df': 5, 'cv__ngram_range': (1, 1), '...</td>\n",
       "      <td>0.933403</td>\n",
       "      <td>0.86378</td>\n",
       "      <td>0.069622</td>\n",
       "    </tr>\n",
       "    <tr>\n",
       "      <th>4</th>\n",
       "      <td>logreg</td>\n",
       "      <td>{'tf__min_df': 4, 'tf__ngram_range': (1, 1), '...</td>\n",
       "      <td>0.907908</td>\n",
       "      <td>0.86554</td>\n",
       "      <td>0.042368</td>\n",
       "    </tr>\n",
       "  </tbody>\n",
       "</table>\n",
       "</div>"
      ],
      "text/plain": [
       "    model                                        best_params  train_score  \\\n",
       "1  logreg  {'cv__min_df': 5, 'cv__ngram_range': (1, 1), '...     0.933403   \n",
       "4  logreg  {'tf__min_df': 4, 'tf__ngram_range': (1, 1), '...     0.907908   \n",
       "\n",
       "   test_score  variance  \n",
       "1     0.86378  0.069622  \n",
       "4     0.86554  0.042368  "
      ]
     },
     "execution_count": 23,
     "metadata": {},
     "output_type": "execute_result"
    }
   ],
   "source": [
    "results[results['model'] == 'logreg']"
   ]
  },
  {
   "cell_type": "code",
   "execution_count": 24,
   "metadata": {},
   "outputs": [
    {
     "data": {
      "text/html": [
       "<div>\n",
       "<style scoped>\n",
       "    .dataframe tbody tr th:only-of-type {\n",
       "        vertical-align: middle;\n",
       "    }\n",
       "\n",
       "    .dataframe tbody tr th {\n",
       "        vertical-align: top;\n",
       "    }\n",
       "\n",
       "    .dataframe thead th {\n",
       "        text-align: right;\n",
       "    }\n",
       "</style>\n",
       "<table border=\"1\" class=\"dataframe\">\n",
       "  <thead>\n",
       "    <tr style=\"text-align: right;\">\n",
       "      <th></th>\n",
       "      <th>model</th>\n",
       "      <th>best_params</th>\n",
       "      <th>train_score</th>\n",
       "      <th>test_score</th>\n",
       "      <th>variance</th>\n",
       "    </tr>\n",
       "  </thead>\n",
       "  <tbody>\n",
       "    <tr>\n",
       "      <th>2</th>\n",
       "      <td>rf</td>\n",
       "      <td>{'cv__min_df': 1, 'cv__ngram_range': (1, 1), '...</td>\n",
       "      <td>0.992542</td>\n",
       "      <td>0.865188</td>\n",
       "      <td>0.127354</td>\n",
       "    </tr>\n",
       "    <tr>\n",
       "      <th>5</th>\n",
       "      <td>rf</td>\n",
       "      <td>{'tf__min_df': 2, 'tf__ngram_range': (1, 1), '...</td>\n",
       "      <td>0.986126</td>\n",
       "      <td>0.871876</td>\n",
       "      <td>0.114249</td>\n",
       "    </tr>\n",
       "  </tbody>\n",
       "</table>\n",
       "</div>"
      ],
      "text/plain": [
       "  model                                        best_params  train_score  \\\n",
       "2    rf  {'cv__min_df': 1, 'cv__ngram_range': (1, 1), '...     0.992542   \n",
       "5    rf  {'tf__min_df': 2, 'tf__ngram_range': (1, 1), '...     0.986126   \n",
       "\n",
       "   test_score  variance  \n",
       "2    0.865188  0.127354  \n",
       "5    0.871876  0.114249  "
      ]
     },
     "execution_count": 24,
     "metadata": {},
     "output_type": "execute_result"
    }
   ],
   "source": [
    "results[results['model'] == 'rf']"
   ]
  },
  {
   "cell_type": "markdown",
   "metadata": {},
   "source": [
    "#### Observations\n",
    "\n",
    "Transformers that performs best:\n",
    "- multinomialnb: TfidfVectorizer (stop_words='english', ngram_range=(1,1), min_df=5)\n",
    "- logreg: TfidVectorizer (stop_words='english', ngram_range=(1,1), min_df=4)\n",
    "- rf: TfidfVectorizer (stop_words='english', ngram_range=(1,1), min_df=2)"
   ]
  },
  {
   "cell_type": "markdown",
   "metadata": {},
   "source": [
    "## Classification Models - Selftext"
   ]
  },
  {
   "cell_type": "code",
   "execution_count": 25,
   "metadata": {},
   "outputs": [],
   "source": [
    "# Create dataframe to store results of gridsearch for models\n",
    "model_results = pd.DataFrame(columns=['models', 'best_params', 'train_score', 'test_score', 'f1_score'])"
   ]
  },
  {
   "cell_type": "markdown",
   "metadata": {},
   "source": [
    "### MultinomialNB"
   ]
  },
  {
   "cell_type": "code",
   "execution_count": 26,
   "metadata": {},
   "outputs": [],
   "source": [
    "# Set hyperparameters for multinomialNB\n",
    "pipe_params_nb = [{\"nb__alpha\":np.arange(1,5,.1)}]"
   ]
  },
  {
   "cell_type": "code",
   "execution_count": 27,
   "metadata": {},
   "outputs": [
    {
     "name": "stdout",
     "output_type": "stream",
     "text": [
      "Pipeline(steps=[('cv', TfidfVectorizer(min_df=5, stop_words='english')),\n",
      "                ('nb', MultinomialNB())])\n",
      "\n",
      "Train score: 0.8928199791883454\n",
      "Test score: 0.8627243928194298\n",
      "\n",
      "F1 score: 0.8954983922829581\n",
      "\n",
      "Best parameters are: {'nb__alpha': 1.0}\n"
     ]
    }
   ],
   "source": [
    "# To identify best hyperparameters for MultinomilNB \n",
    "\n",
    "# Instantiate pipeline\n",
    "pipe = Pipeline([\n",
    "    ('cv', TfidfVectorizer(stop_words='english', ngram_range=(1,1), min_df=5)),\n",
    "    ('nb', MultinomialNB())\n",
    "])\n",
    "\n",
    "# Instantiate GridSearchCV\n",
    "gs = GridSearchCV(pipe, pipe_params_nb, cv=5) \n",
    "\n",
    "# Storing results temporarily in loop\n",
    "temp_mod = {}\n",
    "\n",
    "#Fit GridSearchCV\n",
    "gs.fit(X_train['selftext'], y_train)\n",
    "\n",
    "# Find predictors\n",
    "preds = gs.predict(X_test['selftext'])\n",
    "\n",
    "# Assign results to dictionary and append to dataframe - model_results\n",
    "temp_mod['models'] = 'nb'\n",
    "temp_mod['best_params'] = gs.best_params_\n",
    "temp_mod['train_score'] = gs.score(X_train['selftext'], y_train)\n",
    "temp_mod['test_score'] = gs.score(X_test['selftext'], y_test)\n",
    "temp_mod['f1_score'] = f1_score(y_test, preds)\n",
    "model_results = model_results.append(temp_mod, ignore_index=True)\n",
    "\n",
    "print (pipe)\n",
    "print ('')\n",
    "print (f'Train score: {temp_mod[\"train_score\"]}')\n",
    "print (f'Test score: {temp_mod[\"test_score\"]}')\n",
    "print ('')\n",
    "print (f'F1 score: {temp_mod[\"f1_score\"]}')\n",
    "print ('')\n",
    "print(f'Best parameters are: {temp_mod[\"best_params\"]}')"
   ]
  },
  {
   "cell_type": "markdown",
   "metadata": {},
   "source": [
    "### Logistic Regression"
   ]
  },
  {
   "cell_type": "code",
   "execution_count": 28,
   "metadata": {},
   "outputs": [],
   "source": [
    "pipe_params_logreg = [{\"logreg__penalty\":['l2'],\n",
    "                       \"logreg__C\": np.arange(1, 5, 0.1),\n",
    "                       \"logreg__max_iter\": [4000]}]"
   ]
  },
  {
   "cell_type": "code",
   "execution_count": 29,
   "metadata": {
    "tags": []
   },
   "outputs": [
    {
     "name": "stdout",
     "output_type": "stream",
     "text": [
      "Pipeline(steps=[('cv', TfidfVectorizer(min_df=4, stop_words='english')),\n",
      "                ('logreg', LogisticRegression())])\n",
      "\n",
      "Train score: 0.921436004162331\n",
      "Test score: 0.866948257655755\n",
      "\n",
      "F1 score: 0.8953488372093024\n",
      "\n",
      "Best parameters are: {'logreg__C': 1.8000000000000007, 'logreg__max_iter': 4000, 'logreg__penalty': 'l2'}\n"
     ]
    }
   ],
   "source": [
    "# To identify best parameter for LogisticRegression \n",
    "\n",
    "# Instantiate pipeline\n",
    "pipe = Pipeline([\n",
    "    ('tf', TfidfVectorizer(stop_words='english', ngram_range=(1,1), min_df=4)),\n",
    "    ('logreg', LogisticRegression())\n",
    "])\n",
    "\n",
    "# Fit GridSearchCV\n",
    "gs = GridSearchCV(pipe, pipe_params_logreg, cv=5) \n",
    "\n",
    "# Storing results temporarily in loop\n",
    "temp_mod = {}\n",
    "\n",
    "#Fit GridSearchCV\n",
    "gs.fit(X_train['selftext'], y_train)\n",
    "\n",
    "# Find predictors\n",
    "preds = gs.predict(X_test['selftext'])\n",
    "\n",
    "# Assign results to dictionary and append to dataframe - model_results\n",
    "temp_mod['models'] = 'logreg'\n",
    "temp_mod['best_params'] = gs.best_params_\n",
    "temp_mod['train_score'] = gs.score(X_train['selftext'], y_train)\n",
    "temp_mod['test_score'] = gs.score(X_test['selftext'], y_test)\n",
    "temp_mod['f1_score'] = f1_score(y_test, preds)\n",
    "model_results = model_results.append(temp_mod, ignore_index=True)\n",
    "\n",
    "print (pipe)\n",
    "print ('')\n",
    "print (f'Train score: {temp_mod[\"train_score\"]}')\n",
    "print (f'Test score: {temp_mod[\"test_score\"]}')\n",
    "print ('')\n",
    "print (f'F1 score: {temp_mod[\"f1_score\"]}')\n",
    "print ('')\n",
    "print(f'Best parameters are: {temp_mod[\"best_params\"]}')"
   ]
  },
  {
   "cell_type": "markdown",
   "metadata": {},
   "source": [
    "### Random Forest"
   ]
  },
  {
   "cell_type": "code",
   "execution_count": 30,
   "metadata": {},
   "outputs": [],
   "source": [
    "# Set hyperparamaters for RandomForestClassifier\n",
    "pipe_params_rf = [{\"rf__n_estimators\":np.arange(100, 200, 20),\n",
    "                   \"rf__max_depth\": [None, 1, 2, 3, 4, 5]}]"
   ]
  },
  {
   "cell_type": "code",
   "execution_count": 31,
   "metadata": {
    "tags": []
   },
   "outputs": [
    {
     "name": "stdout",
     "output_type": "stream",
     "text": [
      "Pipeline(steps=[('cv', TfidfVectorizer(min_df=2, stop_words='english')),\n",
      "                ('rf', RandomForestClassifier())])\n",
      "\n",
      "Train score: 0.9861255636489767\n",
      "Test score: 0.8704681450193594\n",
      "\n",
      "F1 score: 0.8989010989010989\n",
      "\n",
      "Best parameters are: {'rf__max_depth': None, 'rf__n_estimators': 180}\n"
     ]
    }
   ],
   "source": [
    "# To identify best parameter for RandomForestClassifier\n",
    "# Instantiate pipeline\n",
    "pipe = Pipeline([\n",
    "    ('tf', TfidfVectorizer(stop_words='english', ngram_range=(1,1), min_df=2)),\n",
    "    ('rf', RandomForestClassifier())\n",
    "])\n",
    "\n",
    "# Fit GridSearchCV\n",
    "gs = GridSearchCV(pipe, pipe_params_rf, cv=5) \n",
    "\n",
    "# Storing results temporarily in loop\n",
    "temp_mod = {}\n",
    "\n",
    "#Fit GridSearchCV\n",
    "gs.fit(X_train['selftext'], y_train)\n",
    "\n",
    "# Find predictors\n",
    "preds = gs.predict(X_test['selftext'])\n",
    "\n",
    "# Assign results to dictionary and append to dataframe - model_results\n",
    "temp_mod['models'] = 'rf'\n",
    "temp_mod['best_params'] = gs.best_params_\n",
    "temp_mod['train_score'] = gs.score(X_train['selftext'], y_train)\n",
    "temp_mod['test_score'] = gs.score(X_test['selftext'], y_test)\n",
    "temp_mod['f1_score'] = f1_score(y_test, preds)\n",
    "model_results = model_results.append(temp_mod, ignore_index=True)\n",
    "\n",
    "print (pipe)\n",
    "print ('')\n",
    "print (f'Train score: {temp_mod[\"train_score\"]}')\n",
    "print (f'Test score: {temp_mod[\"test_score\"]}')\n",
    "print ('')\n",
    "print (f'F1 score: {temp_mod[\"f1_score\"]}')\n",
    "print ('')\n",
    "print(f'Best parameters are: {temp_mod[\"best_params\"]}')"
   ]
  },
  {
   "cell_type": "markdown",
   "metadata": {},
   "source": [
    "### Result of best model"
   ]
  },
  {
   "cell_type": "code",
   "execution_count": 32,
   "metadata": {},
   "outputs": [
    {
     "data": {
      "text/html": [
       "<div>\n",
       "<style scoped>\n",
       "    .dataframe tbody tr th:only-of-type {\n",
       "        vertical-align: middle;\n",
       "    }\n",
       "\n",
       "    .dataframe tbody tr th {\n",
       "        vertical-align: top;\n",
       "    }\n",
       "\n",
       "    .dataframe thead th {\n",
       "        text-align: right;\n",
       "    }\n",
       "</style>\n",
       "<table border=\"1\" class=\"dataframe\">\n",
       "  <thead>\n",
       "    <tr style=\"text-align: right;\">\n",
       "      <th></th>\n",
       "      <th>models</th>\n",
       "      <th>best_params</th>\n",
       "      <th>train_score</th>\n",
       "      <th>test_score</th>\n",
       "      <th>f1_score</th>\n",
       "    </tr>\n",
       "  </thead>\n",
       "  <tbody>\n",
       "    <tr>\n",
       "      <th>0</th>\n",
       "      <td>nb</td>\n",
       "      <td>{'nb__alpha': 1.0}</td>\n",
       "      <td>0.892820</td>\n",
       "      <td>0.862724</td>\n",
       "      <td>0.895498</td>\n",
       "    </tr>\n",
       "    <tr>\n",
       "      <th>1</th>\n",
       "      <td>logreg</td>\n",
       "      <td>{'logreg__C': 1.8000000000000007, 'logreg__max...</td>\n",
       "      <td>0.921436</td>\n",
       "      <td>0.866948</td>\n",
       "      <td>0.895349</td>\n",
       "    </tr>\n",
       "    <tr>\n",
       "      <th>2</th>\n",
       "      <td>rf</td>\n",
       "      <td>{'rf__max_depth': None, 'rf__n_estimators': 180}</td>\n",
       "      <td>0.986126</td>\n",
       "      <td>0.870468</td>\n",
       "      <td>0.898901</td>\n",
       "    </tr>\n",
       "  </tbody>\n",
       "</table>\n",
       "</div>"
      ],
      "text/plain": [
       "   models                                        best_params  train_score  \\\n",
       "0      nb                                 {'nb__alpha': 1.0}     0.892820   \n",
       "1  logreg  {'logreg__C': 1.8000000000000007, 'logreg__max...     0.921436   \n",
       "2      rf   {'rf__max_depth': None, 'rf__n_estimators': 180}     0.986126   \n",
       "\n",
       "   test_score  f1_score  \n",
       "0    0.862724  0.895498  \n",
       "1    0.866948  0.895349  \n",
       "2    0.870468  0.898901  "
      ]
     },
     "execution_count": 32,
     "metadata": {},
     "output_type": "execute_result"
    }
   ],
   "source": [
    "model_results"
   ]
  },
  {
   "cell_type": "markdown",
   "metadata": {},
   "source": [
    "## Evaluate Model with Metrics"
   ]
  },
  {
   "cell_type": "markdown",
   "metadata": {},
   "source": [
    "### Function "
   ]
  },
  {
   "cell_type": "code",
   "execution_count": 33,
   "metadata": {},
   "outputs": [],
   "source": [
    "# Function to measure model performance with classification metrics\n",
    "def eva_metrics(y_test, preds, X_test):\n",
    "\n",
    "    # Save TN/FP/FN/TP values\n",
    "    tn, fp, fn, tp = confusion_matrix(y_test, preds).ravel()\n",
    "    \n",
    "    # Using sklearn - accuracy score and F1 score to determine model accuracy\n",
    "    print (f'Accuracy score: {accuracy_score(y_test, preds)}')\n",
    "    print (f'F1 score: {f1_score(y_test, preds)}')\n",
    "    print ('--------------------------------------------------------------------------')\n",
    "    print ('')\n",
    "\n",
    "    print (\"True Negatives: %s\" % tn)\n",
    "    print (\"False Positives: %s\" % fp)\n",
    "    print (\"False Negatives: %s\" % fn)\n",
    "    print (\"True Positives: %s\" % tp)\n",
    "    print('')\n",
    "    \n",
    "    # Plot confusion matrix\n",
    "    plot_confusion_matrix(pipe, X_test, y_test, cmap='Blues', values_format='d', display_labels=['0', '1']);\n",
    "    \n",
    "    print (f'Dogecoin predicted correctly: {tp / (tp + fn)}')\n",
    "    print (f'GME predicted correctly: {tn / (tn + fp)}')"
   ]
  },
  {
   "cell_type": "markdown",
   "metadata": {},
   "source": [
    "#### Model best transformers & hyperparameters:\n",
    "\n",
    "Transfomers\n",
    "- TfidfVectorizer (stop_words='english', ngram_range=(1,1), min_df=2)\n",
    "\n",
    "Models\n",
    "- rf: (max_depth=None, n_estimators=160)"
   ]
  },
  {
   "cell_type": "code",
   "execution_count": 34,
   "metadata": {},
   "outputs": [],
   "source": [
    "# Set hyperparameters\n",
    "rf_pipe = [\n",
    "    ('tf',TfidfVectorizer(stop_words='english', ngram_range=(1,1), min_df=2)),\n",
    "    ('rf',RandomForestClassifier(max_depth=None, n_estimators=160))\n",
    "    ]"
   ]
  },
  {
   "cell_type": "code",
   "execution_count": 35,
   "metadata": {},
   "outputs": [
    {
     "name": "stdout",
     "output_type": "stream",
     "text": [
      "CV score: 0.8598689876909156\n",
      "CV score: 0.8606122676303869\n",
      "\n",
      "Train score: 0.9861255636489767\n",
      "Test score: 0.8637803590285111\n"
     ]
    }
   ],
   "source": [
    "# Create a multinomialnb with best hyperparameters\n",
    "\n",
    "# Instatiate pipeline\n",
    "pipe = Pipeline(rf_pipe)\n",
    "\n",
    "# Fit pipeline\n",
    "pipe.fit(X_train['selftext'], y_train)\n",
    "\n",
    "# Check model score (underfit or overfit)\n",
    "train_score = pipe.score(X_train['selftext'], y_train)\n",
    "test_score = pipe.score(X_test['selftext'], y_test)\n",
    "cv_score = cross_val_score(pipe, X_train['selftext'], y_train, cv=5).mean()\n",
    "cv_score2 = cross_val_score(pipe, X_test['selftext'], y_test, cv=5).mean()\n",
    "\n",
    "print (f'CV score: {cv_score}')\n",
    "print (f'CV score: {cv_score2}')\n",
    "print('')\n",
    "print (f'Train score: {train_score}')\n",
    "print (f'Test score: {test_score}')\n",
    "\n",
    "# Generate predictions\n",
    "preds = pipe.predict(X_test['selftext'])"
   ]
  },
  {
   "cell_type": "code",
   "execution_count": 36,
   "metadata": {},
   "outputs": [
    {
     "name": "stdout",
     "output_type": "stream",
     "text": [
      "Accuracy score: 0.8637803590285111\n",
      "F1 score: 0.8936521022258862\n",
      "--------------------------------------------------------------------------\n",
      "\n",
      "True Negatives: 828\n",
      "False Positives: 266\n",
      "False Negatives: 121\n",
      "True Positives: 1626\n",
      "\n",
      "Dogecoin predicted correctly: 0.9307384087006296\n",
      "GME predicted correctly: 0.7568555758683729\n"
     ]
    },
    {
     "data": {
      "image/png": "[encoded data removed]",
      "text/plain": [
       "<Figure size 432x288 with 2 Axes>"
      ]
     },
     "metadata": {
      "needs_background": "light"
     },
     "output_type": "display_data"
    }
   ],
   "source": [
    "eva_metrics(y_test, preds, X_test['selftext'])"
   ]
  },
  {
   "cell_type": "code",
   "execution_count": 37,
   "metadata": {},
   "outputs": [
    {
     "data": {
      "text/html": [
       "<div>\n",
       "<style scoped>\n",
       "    .dataframe tbody tr th:only-of-type {\n",
       "        vertical-align: middle;\n",
       "    }\n",
       "\n",
       "    .dataframe tbody tr th {\n",
       "        vertical-align: top;\n",
       "    }\n",
       "\n",
       "    .dataframe thead th {\n",
       "        text-align: right;\n",
       "    }\n",
       "</style>\n",
       "<table border=\"1\" class=\"dataframe\">\n",
       "  <thead>\n",
       "    <tr style=\"text-align: right;\">\n",
       "      <th></th>\n",
       "      <th>true_values</th>\n",
       "      <th>pred_probs</th>\n",
       "    </tr>\n",
       "  </thead>\n",
       "  <tbody>\n",
       "    <tr>\n",
       "      <th>4008</th>\n",
       "      <td>1</td>\n",
       "      <td>0.697222</td>\n",
       "    </tr>\n",
       "    <tr>\n",
       "      <th>1919</th>\n",
       "      <td>0</td>\n",
       "      <td>0.216750</td>\n",
       "    </tr>\n",
       "    <tr>\n",
       "      <th>4000</th>\n",
       "      <td>1</td>\n",
       "      <td>0.895913</td>\n",
       "    </tr>\n",
       "    <tr>\n",
       "      <th>3270</th>\n",
       "      <td>0</td>\n",
       "      <td>0.037500</td>\n",
       "    </tr>\n",
       "    <tr>\n",
       "      <th>5735</th>\n",
       "      <td>1</td>\n",
       "      <td>0.911979</td>\n",
       "    </tr>\n",
       "  </tbody>\n",
       "</table>\n",
       "</div>"
      ],
      "text/plain": [
       "      true_values  pred_probs\n",
       "4008            1    0.697222\n",
       "1919            0    0.216750\n",
       "4000            1    0.895913\n",
       "3270            0    0.037500\n",
       "5735            1    0.911979"
      ]
     },
     "execution_count": 37,
     "metadata": {},
     "output_type": "execute_result"
    }
   ],
   "source": [
    "# Create dataframe for predictors \n",
    "pred_df = pd.DataFrame({'true_values': y_test,\n",
    "                        'pred_probs': pipe.predict_proba(X_test['selftext'])[:,1]})\n",
    "\n",
    "pred_df.head()"
   ]
  },
  {
   "cell_type": "code",
   "execution_count": 38,
   "metadata": {},
   "outputs": [
    {
     "data": {
      "image/png": "[encoded data removed]",
      "text/plain": [
       "<Figure size 432x288 with 1 Axes>"
      ]
     },
     "metadata": {
      "needs_background": "light"
     },
     "output_type": "display_data"
    }
   ],
   "source": [
    "# Plot ROC-AUC graph\n",
    "plot_roc_curve(pipe, X_test['selftext'], y_test)\n",
    "plt.plot([0, 1], [0, 1],\n",
    "         label='baseline', linestyle='--')\n",
    "plt.legend();"
   ]
  },
  {
   "cell_type": "code",
   "execution_count": 39,
   "metadata": {
    "scrolled": true
   },
   "outputs": [
    {
     "name": "stdout",
     "output_type": "stream",
     "text": [
      "ROC_AUC score: 0.9333561111291334\n"
     ]
    }
   ],
   "source": [
    "rocauc_score = roc_auc_score(y_test, pipe.predict_proba(X_test['selftext'])[:,1])\n",
    "print (f'ROC_AUC score: {rocauc_score}')"
   ]
  },
  {
   "cell_type": "markdown",
   "metadata": {},
   "source": [
    "## Model Preprocessing - Title"
   ]
  },
  {
   "cell_type": "code",
   "execution_count": 40,
   "metadata": {},
   "outputs": [],
   "source": [
    "# Create dataframe to store result of gridsearch for transformers\n",
    "results2 = pd.DataFrame(columns=['model','best_params','train_score','test_score'])"
   ]
  },
  {
   "cell_type": "code",
   "execution_count": 41,
   "metadata": {},
   "outputs": [],
   "source": [
    "# List of models\n",
    "models = ['nb', 'logreg', 'rf']"
   ]
  },
  {
   "cell_type": "markdown",
   "metadata": {},
   "source": [
    "### CountVectorizer"
   ]
  },
  {
   "cell_type": "code",
   "execution_count": 42,
   "metadata": {},
   "outputs": [],
   "source": [
    "# list of transfomer and models to include in the pipeline\n",
    "list_pipes_cv = [ \n",
    "    [('cv',CountVectorizer()),('nb',MultinomialNB())],\n",
    "    [('cv',CountVectorizer()),('logreg',LogisticRegression())],\n",
    "    [('cv',CountVectorizer()),('rf',RandomForestClassifier())]\n",
    "]"
   ]
  },
  {
   "cell_type": "code",
   "execution_count": 43,
   "metadata": {},
   "outputs": [],
   "source": [
    "# Set hyperparameters for CountVectorizer()\n",
    "pipe_params_cv = [\n",
    "    {\"cv__stop_words\":['english'], \"cv__ngram_range\":[(1,1),(1,2)], \"cv__min_df\":[1, 2, 3, 4, 5]},\n",
    "    {\"cv__stop_words\":['english'], \"cv__ngram_range\":[(1,1),(1,2)], \"cv__min_df\":[1, 2, 3, 4, 5]},\n",
    "    {\"cv__stop_words\":['english'], \"cv__ngram_range\":[(1,1),(1,2)], \"cv__min_df\":[1, 2, 3, 4, 5]}\n",
    "]"
   ]
  },
  {
   "cell_type": "code",
   "execution_count": 44,
   "metadata": {},
   "outputs": [
    {
     "name": "stdout",
     "output_type": "stream",
     "text": [
      "--------------------------------------------------------------------------------\n",
      "Pipeline(steps=[('cv', CountVectorizer()), ('nb', MultinomialNB())])\n",
      "Train score: 0.9424210891432535\n",
      "Test score: 0.837029215065118\n",
      "\n",
      "Best parameters are: {'cv__min_df': 1, 'cv__ngram_range': (1, 2), 'cv__stop_words': 'english'}\n",
      "--------------------------------------------------------------------------------\n",
      "Pipeline(steps=[('cv', CountVectorizer()), ('logreg', LogisticRegression())])\n",
      "Train score: 0.894901144640999\n",
      "Test score: 0.8363252375923971\n",
      "\n",
      "Best parameters are: {'cv__min_df': 2, 'cv__ngram_range': (1, 2), 'cv__stop_words': 'english'}\n",
      "--------------------------------------------------------------------------------\n",
      "Pipeline(steps=[('cv', CountVectorizer()), ('rf', RandomForestClassifier())])\n",
      "Train score: 0.9741588622962192\n",
      "Test score: 0.82259767687434\n",
      "\n",
      "Best parameters are: {'cv__min_df': 1, 'cv__ngram_range': (1, 2), 'cv__stop_words': 'english'}\n"
     ]
    }
   ],
   "source": [
    "# To identify best countvectorizer for each base models\n",
    "for i in range(len(list_pipes_cv)): # Loop to identify index for list pipes\n",
    "    pipe = Pipeline(steps=list_pipes_cv[i]) # Instantiate pipeline\n",
    "    gs = GridSearchCV(pipe, pipe_params_cv[i], cv=5) # Instantiate GridSearchCV\n",
    "    \n",
    "    # Storing results temporarily in loop\n",
    "    temp = {}\n",
    "    \n",
    "    # Fit GridSearchCV\n",
    "    gs.fit(X_train['title'], y_train)\n",
    "    \n",
    "    # Assign results to dictionary and append to dataframe - results2\n",
    "    temp['model'] = models[i]\n",
    "    temp['best_params'] = gs.best_params_\n",
    "    temp['train_score'] = gs.score(X_train['title'], y_train)\n",
    "    temp['test_score'] = gs.score(X_test['title'], y_test)\n",
    "    results2 = results2.append(temp, ignore_index=True)\n",
    "    \n",
    "    print ('--------------------------------------------------------------------------------')\n",
    "    print (pipe)\n",
    "    print (f'Train score: {temp[\"train_score\"]}')\n",
    "    print (f'Test score: {temp[\"test_score\"]}')\n",
    "    print ('')\n",
    "    print(f'Best parameters are: {temp[\"best_params\"]}')"
   ]
  },
  {
   "cell_type": "markdown",
   "metadata": {},
   "source": [
    "### TfidfVectorizer"
   ]
  },
  {
   "cell_type": "code",
   "execution_count": 45,
   "metadata": {},
   "outputs": [],
   "source": [
    "# list of transfomer and models to include in the pipeline\n",
    "list_pipes_tf = [ \n",
    "    [('tf',TfidfVectorizer()),('nb',MultinomialNB())],\n",
    "    [('tf',TfidfVectorizer()),('logreg',LogisticRegression())],\n",
    "    [('tf',TfidfVectorizer()),('rf',RandomForestClassifier())]\n",
    "]"
   ]
  },
  {
   "cell_type": "code",
   "execution_count": 46,
   "metadata": {},
   "outputs": [],
   "source": [
    "# Set hyperparameters for TfidfVectorizer()\n",
    "pipe_params_tf = [\n",
    "    {\"tf__stop_words\":['english'], \"tf__ngram_range\":[(1,1),(1,2)], \"tf__min_df\":[1, 2, 3, 4, 5]},\n",
    "    {\"tf__stop_words\":['english'], \"tf__ngram_range\":[(1,1),(1,2)], \"tf__min_df\":[1, 2, 3, 4, 5]},\n",
    "    {\"tf__stop_words\":['english'], \"tf__ngram_range\":[(1,1),(1,2)], \"tf__min_df\":[1, 2, 3, 4, 5]}\n",
    "]"
   ]
  },
  {
   "cell_type": "code",
   "execution_count": 47,
   "metadata": {},
   "outputs": [
    {
     "name": "stdout",
     "output_type": "stream",
     "text": [
      "--------------------------------------------------------------------------------\n",
      "Pipeline(steps=[('tf', TfidfVectorizer()), ('nb', MultinomialNB())])\n",
      "Train score: 0.8910856746444675\n",
      "Test score: 0.8254135867652235\n",
      "\n",
      "Best parameters are: {'tf__min_df': 2, 'tf__ngram_range': (1, 2), 'tf__stop_words': 'english'}\n",
      "--------------------------------------------------------------------------------\n",
      "Pipeline(steps=[('tf', TfidfVectorizer()), ('logreg', LogisticRegression())])\n",
      "Train score: 0.8779049601109955\n",
      "Test score: 0.8335093277015135\n",
      "\n",
      "Best parameters are: {'tf__min_df': 2, 'tf__ngram_range': (1, 1), 'tf__stop_words': 'english'}\n",
      "--------------------------------------------------------------------------------\n",
      "Pipeline(steps=[('tf', TfidfVectorizer()), ('rf', RandomForestClassifier())])\n",
      "Train score: 0.9741588622962192\n",
      "Test score: 0.8306934178106301\n",
      "\n",
      "Best parameters are: {'tf__min_df': 1, 'tf__ngram_range': (1, 2), 'tf__stop_words': 'english'}\n"
     ]
    }
   ],
   "source": [
    "# To identify best countvectorizer for each base models\n",
    "for i in range(len(list_pipes_tf)): # Loop to identify index for list pipes\n",
    "    pipe = Pipeline(steps=list_pipes_tf[i]) # Instantiate pipeline\n",
    "    gs = GridSearchCV(pipe, pipe_params_tf[i], cv=5) # Instantiate GridSearchCV\n",
    "    \n",
    "    # Storing results temporarily in loop\n",
    "    temp = {}\n",
    "    \n",
    "    # Fit GridSearchCV\n",
    "    gs.fit(X_train['title'], y_train)\n",
    "    \n",
    "    # Assign results to dictionary and append to dataframe - results2\n",
    "    temp['model'] = models[i]\n",
    "    temp['best_params'] = gs.best_params_\n",
    "    temp['train_score'] = gs.score(X_train['title'], y_train)\n",
    "    temp['test_score'] = gs.score(X_test['title'], y_test)\n",
    "    results2 = results2.append(temp, ignore_index=True)\n",
    "    \n",
    "    print ('--------------------------------------------------------------------------------')\n",
    "    print (pipe)\n",
    "    print (f'Train score: {temp[\"train_score\"]}')\n",
    "    print (f'Test score: {temp[\"test_score\"]}')\n",
    "    print ('')\n",
    "    print(f'Best parameters are: {temp[\"best_params\"]}')"
   ]
  },
  {
   "cell_type": "markdown",
   "metadata": {},
   "source": [
    "### Results of best transformer"
   ]
  },
  {
   "cell_type": "code",
   "execution_count": 48,
   "metadata": {},
   "outputs": [],
   "source": [
    "# Create a column to see the difference in train and test score for each transformer\n",
    "results2['variance'] =  results2['train_score'] - results2['test_score']"
   ]
  },
  {
   "cell_type": "code",
   "execution_count": 49,
   "metadata": {},
   "outputs": [
    {
     "data": {
      "text/html": [
       "<div>\n",
       "<style scoped>\n",
       "    .dataframe tbody tr th:only-of-type {\n",
       "        vertical-align: middle;\n",
       "    }\n",
       "\n",
       "    .dataframe tbody tr th {\n",
       "        vertical-align: top;\n",
       "    }\n",
       "\n",
       "    .dataframe thead th {\n",
       "        text-align: right;\n",
       "    }\n",
       "</style>\n",
       "<table border=\"1\" class=\"dataframe\">\n",
       "  <thead>\n",
       "    <tr style=\"text-align: right;\">\n",
       "      <th></th>\n",
       "      <th>model</th>\n",
       "      <th>best_params</th>\n",
       "      <th>train_score</th>\n",
       "      <th>test_score</th>\n",
       "      <th>variance</th>\n",
       "    </tr>\n",
       "  </thead>\n",
       "  <tbody>\n",
       "    <tr>\n",
       "      <th>0</th>\n",
       "      <td>nb</td>\n",
       "      <td>{'cv__min_df': 1, 'cv__ngram_range': (1, 2), '...</td>\n",
       "      <td>0.942421</td>\n",
       "      <td>0.837029</td>\n",
       "      <td>0.105392</td>\n",
       "    </tr>\n",
       "    <tr>\n",
       "      <th>1</th>\n",
       "      <td>logreg</td>\n",
       "      <td>{'cv__min_df': 2, 'cv__ngram_range': (1, 2), '...</td>\n",
       "      <td>0.894901</td>\n",
       "      <td>0.836325</td>\n",
       "      <td>0.058576</td>\n",
       "    </tr>\n",
       "    <tr>\n",
       "      <th>2</th>\n",
       "      <td>rf</td>\n",
       "      <td>{'cv__min_df': 1, 'cv__ngram_range': (1, 2), '...</td>\n",
       "      <td>0.974159</td>\n",
       "      <td>0.822598</td>\n",
       "      <td>0.151561</td>\n",
       "    </tr>\n",
       "    <tr>\n",
       "      <th>3</th>\n",
       "      <td>nb</td>\n",
       "      <td>{'tf__min_df': 2, 'tf__ngram_range': (1, 2), '...</td>\n",
       "      <td>0.891086</td>\n",
       "      <td>0.825414</td>\n",
       "      <td>0.065672</td>\n",
       "    </tr>\n",
       "    <tr>\n",
       "      <th>4</th>\n",
       "      <td>logreg</td>\n",
       "      <td>{'tf__min_df': 2, 'tf__ngram_range': (1, 1), '...</td>\n",
       "      <td>0.877905</td>\n",
       "      <td>0.833509</td>\n",
       "      <td>0.044396</td>\n",
       "    </tr>\n",
       "    <tr>\n",
       "      <th>5</th>\n",
       "      <td>rf</td>\n",
       "      <td>{'tf__min_df': 1, 'tf__ngram_range': (1, 2), '...</td>\n",
       "      <td>0.974159</td>\n",
       "      <td>0.830693</td>\n",
       "      <td>0.143465</td>\n",
       "    </tr>\n",
       "  </tbody>\n",
       "</table>\n",
       "</div>"
      ],
      "text/plain": [
       "    model                                        best_params  train_score  \\\n",
       "0      nb  {'cv__min_df': 1, 'cv__ngram_range': (1, 2), '...     0.942421   \n",
       "1  logreg  {'cv__min_df': 2, 'cv__ngram_range': (1, 2), '...     0.894901   \n",
       "2      rf  {'cv__min_df': 1, 'cv__ngram_range': (1, 2), '...     0.974159   \n",
       "3      nb  {'tf__min_df': 2, 'tf__ngram_range': (1, 2), '...     0.891086   \n",
       "4  logreg  {'tf__min_df': 2, 'tf__ngram_range': (1, 1), '...     0.877905   \n",
       "5      rf  {'tf__min_df': 1, 'tf__ngram_range': (1, 2), '...     0.974159   \n",
       "\n",
       "   test_score  variance  \n",
       "0    0.837029  0.105392  \n",
       "1    0.836325  0.058576  \n",
       "2    0.822598  0.151561  \n",
       "3    0.825414  0.065672  \n",
       "4    0.833509  0.044396  \n",
       "5    0.830693  0.143465  "
      ]
     },
     "execution_count": 49,
     "metadata": {},
     "output_type": "execute_result"
    }
   ],
   "source": [
    "results2"
   ]
  },
  {
   "cell_type": "code",
   "execution_count": 50,
   "metadata": {},
   "outputs": [
    {
     "data": {
      "text/html": [
       "<div>\n",
       "<style scoped>\n",
       "    .dataframe tbody tr th:only-of-type {\n",
       "        vertical-align: middle;\n",
       "    }\n",
       "\n",
       "    .dataframe tbody tr th {\n",
       "        vertical-align: top;\n",
       "    }\n",
       "\n",
       "    .dataframe thead th {\n",
       "        text-align: right;\n",
       "    }\n",
       "</style>\n",
       "<table border=\"1\" class=\"dataframe\">\n",
       "  <thead>\n",
       "    <tr style=\"text-align: right;\">\n",
       "      <th></th>\n",
       "      <th>model</th>\n",
       "      <th>best_params</th>\n",
       "      <th>train_score</th>\n",
       "      <th>test_score</th>\n",
       "      <th>variance</th>\n",
       "    </tr>\n",
       "  </thead>\n",
       "  <tbody>\n",
       "    <tr>\n",
       "      <th>0</th>\n",
       "      <td>nb</td>\n",
       "      <td>{'cv__min_df': 1, 'cv__ngram_range': (1, 2), '...</td>\n",
       "      <td>0.942421</td>\n",
       "      <td>0.837029</td>\n",
       "      <td>0.105392</td>\n",
       "    </tr>\n",
       "    <tr>\n",
       "      <th>3</th>\n",
       "      <td>nb</td>\n",
       "      <td>{'tf__min_df': 2, 'tf__ngram_range': (1, 2), '...</td>\n",
       "      <td>0.891086</td>\n",
       "      <td>0.825414</td>\n",
       "      <td>0.065672</td>\n",
       "    </tr>\n",
       "  </tbody>\n",
       "</table>\n",
       "</div>"
      ],
      "text/plain": [
       "  model                                        best_params  train_score  \\\n",
       "0    nb  {'cv__min_df': 1, 'cv__ngram_range': (1, 2), '...     0.942421   \n",
       "3    nb  {'tf__min_df': 2, 'tf__ngram_range': (1, 2), '...     0.891086   \n",
       "\n",
       "   test_score  variance  \n",
       "0    0.837029  0.105392  \n",
       "3    0.825414  0.065672  "
      ]
     },
     "execution_count": 50,
     "metadata": {},
     "output_type": "execute_result"
    }
   ],
   "source": [
    "results2[results2['model'] == 'nb']"
   ]
  },
  {
   "cell_type": "code",
   "execution_count": 51,
   "metadata": {},
   "outputs": [
    {
     "data": {
      "text/html": [
       "<div>\n",
       "<style scoped>\n",
       "    .dataframe tbody tr th:only-of-type {\n",
       "        vertical-align: middle;\n",
       "    }\n",
       "\n",
       "    .dataframe tbody tr th {\n",
       "        vertical-align: top;\n",
       "    }\n",
       "\n",
       "    .dataframe thead th {\n",
       "        text-align: right;\n",
       "    }\n",
       "</style>\n",
       "<table border=\"1\" class=\"dataframe\">\n",
       "  <thead>\n",
       "    <tr style=\"text-align: right;\">\n",
       "      <th></th>\n",
       "      <th>model</th>\n",
       "      <th>best_params</th>\n",
       "      <th>train_score</th>\n",
       "      <th>test_score</th>\n",
       "      <th>variance</th>\n",
       "    </tr>\n",
       "  </thead>\n",
       "  <tbody>\n",
       "    <tr>\n",
       "      <th>1</th>\n",
       "      <td>logreg</td>\n",
       "      <td>{'cv__min_df': 2, 'cv__ngram_range': (1, 2), '...</td>\n",
       "      <td>0.894901</td>\n",
       "      <td>0.836325</td>\n",
       "      <td>0.058576</td>\n",
       "    </tr>\n",
       "    <tr>\n",
       "      <th>4</th>\n",
       "      <td>logreg</td>\n",
       "      <td>{'tf__min_df': 2, 'tf__ngram_range': (1, 1), '...</td>\n",
       "      <td>0.877905</td>\n",
       "      <td>0.833509</td>\n",
       "      <td>0.044396</td>\n",
       "    </tr>\n",
       "  </tbody>\n",
       "</table>\n",
       "</div>"
      ],
      "text/plain": [
       "    model                                        best_params  train_score  \\\n",
       "1  logreg  {'cv__min_df': 2, 'cv__ngram_range': (1, 2), '...     0.894901   \n",
       "4  logreg  {'tf__min_df': 2, 'tf__ngram_range': (1, 1), '...     0.877905   \n",
       "\n",
       "   test_score  variance  \n",
       "1    0.836325  0.058576  \n",
       "4    0.833509  0.044396  "
      ]
     },
     "execution_count": 51,
     "metadata": {},
     "output_type": "execute_result"
    }
   ],
   "source": [
    "results2[results2['model'] == 'logreg']"
   ]
  },
  {
   "cell_type": "code",
   "execution_count": 52,
   "metadata": {},
   "outputs": [
    {
     "data": {
      "text/html": [
       "<div>\n",
       "<style scoped>\n",
       "    .dataframe tbody tr th:only-of-type {\n",
       "        vertical-align: middle;\n",
       "    }\n",
       "\n",
       "    .dataframe tbody tr th {\n",
       "        vertical-align: top;\n",
       "    }\n",
       "\n",
       "    .dataframe thead th {\n",
       "        text-align: right;\n",
       "    }\n",
       "</style>\n",
       "<table border=\"1\" class=\"dataframe\">\n",
       "  <thead>\n",
       "    <tr style=\"text-align: right;\">\n",
       "      <th></th>\n",
       "      <th>model</th>\n",
       "      <th>best_params</th>\n",
       "      <th>train_score</th>\n",
       "      <th>test_score</th>\n",
       "      <th>variance</th>\n",
       "    </tr>\n",
       "  </thead>\n",
       "  <tbody>\n",
       "    <tr>\n",
       "      <th>2</th>\n",
       "      <td>rf</td>\n",
       "      <td>{'cv__min_df': 1, 'cv__ngram_range': (1, 2), '...</td>\n",
       "      <td>0.974159</td>\n",
       "      <td>0.822598</td>\n",
       "      <td>0.151561</td>\n",
       "    </tr>\n",
       "    <tr>\n",
       "      <th>5</th>\n",
       "      <td>rf</td>\n",
       "      <td>{'tf__min_df': 1, 'tf__ngram_range': (1, 2), '...</td>\n",
       "      <td>0.974159</td>\n",
       "      <td>0.830693</td>\n",
       "      <td>0.143465</td>\n",
       "    </tr>\n",
       "  </tbody>\n",
       "</table>\n",
       "</div>"
      ],
      "text/plain": [
       "  model                                        best_params  train_score  \\\n",
       "2    rf  {'cv__min_df': 1, 'cv__ngram_range': (1, 2), '...     0.974159   \n",
       "5    rf  {'tf__min_df': 1, 'tf__ngram_range': (1, 2), '...     0.974159   \n",
       "\n",
       "   test_score  variance  \n",
       "2    0.822598  0.151561  \n",
       "5    0.830693  0.143465  "
      ]
     },
     "execution_count": 52,
     "metadata": {},
     "output_type": "execute_result"
    }
   ],
   "source": [
    "results2[results2['model'] == 'rf']"
   ]
  },
  {
   "cell_type": "markdown",
   "metadata": {},
   "source": [
    "#### Observations\n",
    "\n",
    "Transformers that performs best:\n",
    "- multinomialnb: TfidfVectorizer (stop_words='english', ngram_range=(1,2), min_df=2)\n",
    "- logreg: TfidVectorizer (stop_words='english', ngram_range=(1,1), min_df=2)\n",
    "- rf: TfidfVectorizer (stop_words='english', ngram_range=(1,2), min_df=1)"
   ]
  },
  {
   "cell_type": "markdown",
   "metadata": {},
   "source": [
    "## Classification Model - Title"
   ]
  },
  {
   "cell_type": "code",
   "execution_count": 60,
   "metadata": {},
   "outputs": [],
   "source": [
    "# Create dataframe to store results of gridsearch for models\n",
    "model_results2 = pd.DataFrame(columns=['models', 'best_params', 'train_score', 'test_score', 'f1_score'])"
   ]
  },
  {
   "cell_type": "markdown",
   "metadata": {},
   "source": [
    "### MultinomialNB"
   ]
  },
  {
   "cell_type": "code",
   "execution_count": 61,
   "metadata": {},
   "outputs": [],
   "source": [
    "# Set hyperparameters for MultinomialNB\n",
    "pipe_params_nb2 = [{\"nb__alpha\":np.arange(1,5,.1)}]"
   ]
  },
  {
   "cell_type": "code",
   "execution_count": 62,
   "metadata": {},
   "outputs": [
    {
     "name": "stdout",
     "output_type": "stream",
     "text": [
      "Pipeline(steps=[('cv',\n",
      "                 TfidfVectorizer(min_df=2, ngram_range=(1, 2),\n",
      "                                 stop_words='english')),\n",
      "                ('nb', MultinomialNB())])\n",
      "\n",
      "Train score: 0.8910856746444675\n",
      "Test score: 0.8254135867652235\n",
      "\n",
      "F1 score: 0.867237687366167\n",
      "\n",
      "Best parameters are: {'nb__alpha': 1.0}\n"
     ]
    }
   ],
   "source": [
    "# To identify best parameter for MultinomilNB \n",
    "\n",
    "# Instantiate pipeline\n",
    "pipe = Pipeline([\n",
    "    ('tf', TfidfVectorizer(stop_words='english', ngram_range=(1,2), min_df=2)),\n",
    "    ('nb', MultinomialNB())\n",
    "])\n",
    "\n",
    "# Instantiate GridSearchCV\n",
    "gs = GridSearchCV(pipe, pipe_params_nb2, cv=5) \n",
    "\n",
    "# Storing results temporarily in loop\n",
    "temp_mod = {}\n",
    "\n",
    "# Fit GridSearchCV\n",
    "gs.fit(X_train['title'], y_train)\n",
    "\n",
    "# Find predictors\n",
    "preds = gs.predict(X_test['title'])\n",
    "\n",
    "# Assign results to dictionary and append to dataframe - model_results2\n",
    "temp_mod['models'] = 'nb'\n",
    "temp_mod['best_params'] = gs.best_params_\n",
    "temp_mod['train_score'] = gs.score(X_train['title'], y_train)\n",
    "temp_mod['test_score'] = gs.score(X_test['title'], y_test)\n",
    "temp_mod['f1_score'] = f1_score(y_test, preds)\n",
    "model_results2 = model_results2.append(temp_mod, ignore_index=True)\n",
    "\n",
    "print (pipe)\n",
    "print ('')\n",
    "print (f'Train score: {temp_mod[\"train_score\"]}')\n",
    "print (f'Test score: {temp_mod[\"test_score\"]}')\n",
    "print ('')\n",
    "print (f'F1 score: {temp_mod[\"f1_score\"]}')\n",
    "print ('')\n",
    "print(f'Best parameters are: {temp_mod[\"best_params\"]}')"
   ]
  },
  {
   "cell_type": "markdown",
   "metadata": {},
   "source": [
    "### Logistic Regression"
   ]
  },
  {
   "cell_type": "code",
   "execution_count": 63,
   "metadata": {},
   "outputs": [],
   "source": [
    "pipe_params_logreg2 = [{\"logreg__penalty\":['l2'],\n",
    "                       \"logreg__C\": np.arange(1, 5, 0.1),\n",
    "                       \"logreg__max_iter\": [4000]}]"
   ]
  },
  {
   "cell_type": "code",
   "execution_count": 64,
   "metadata": {},
   "outputs": [
    {
     "name": "stdout",
     "output_type": "stream",
     "text": [
      "Pipeline(steps=[('cv', TfidfVectorizer(min_df=2, stop_words='english')),\n",
      "                ('logreg', LogisticRegression())])\n",
      "\n",
      "Train score: 0.8810267082899758\n",
      "Test score: 0.833861316437874\n",
      "\n",
      "F1 score: 0.8739989321943407\n",
      "\n",
      "Best parameters are: {'logreg__C': 1.1, 'logreg__max_iter': 4000, 'logreg__penalty': 'l2'}\n"
     ]
    }
   ],
   "source": [
    "# To identify best parameter for LogisticRegression \n",
    "\n",
    "# Instantiate pipeline\n",
    "pipe = Pipeline([\n",
    "    ('tf', TfidfVectorizer(stop_words='english', ngram_range=(1,1), min_df=2)),\n",
    "    ('logreg', LogisticRegression())\n",
    "])\n",
    "\n",
    "# Instantiate GridSearchCV\n",
    "gs = GridSearchCV(pipe, pipe_params_logreg2, cv=5) \n",
    "\n",
    "# Storing results temporarily in loop\n",
    "temp_mod = {}\n",
    "\n",
    "# Fit GridSearchCV\n",
    "gs.fit(X_train['title'], y_train)\n",
    "\n",
    "# Find predictors\n",
    "preds = gs.predict(X_test['title'])\n",
    "\n",
    "# Assign results to dictionary and append to dataframe - model_results\n",
    "temp_mod['models'] = 'logreg'\n",
    "temp_mod['best_params'] = gs.best_params_\n",
    "temp_mod['train_score'] = gs.score(X_train['title'], y_train)\n",
    "temp_mod['test_score'] = gs.score(X_test['title'], y_test)\n",
    "temp_mod['f1_score'] = f1_score(y_test, preds)\n",
    "model_results2 = model_results2.append(temp_mod, ignore_index=True)\n",
    "\n",
    "print (pipe)\n",
    "print ('')\n",
    "print (f'Train score: {temp_mod[\"train_score\"]}')\n",
    "print (f'Test score: {temp_mod[\"test_score\"]}')\n",
    "print ('')\n",
    "print (f'F1 score: {temp_mod[\"f1_score\"]}')\n",
    "print ('')\n",
    "print(f'Best parameters are: {temp_mod[\"best_params\"]}')"
   ]
  },
  {
   "cell_type": "markdown",
   "metadata": {},
   "source": [
    "### Random Forest"
   ]
  },
  {
   "cell_type": "code",
   "execution_count": 65,
   "metadata": {},
   "outputs": [],
   "source": [
    "# Set hyperparamaters for RandomForestClassifier\n",
    "pipe_params_rf2= [{\"rf__n_estimators\":np.arange(100, 200, 20),\n",
    "                   \"rf__max_depth\": [None, 1, 2, 3, 4, 5]}]"
   ]
  },
  {
   "cell_type": "code",
   "execution_count": 66,
   "metadata": {
    "tags": []
   },
   "outputs": [
    {
     "name": "stdout",
     "output_type": "stream",
     "text": [
      "Pipeline(steps=[('cv',\n",
      "                 CountVectorizer(ngram_range=(1, 2), stop_words='english')),\n",
      "                ('rf', RandomForestClassifier())])\n",
      "\n",
      "Train score: 0.9741588622962192\n",
      "Test score: 0.8261175642379444\n",
      "\n",
      "F1 score: 0.8634604754007739\n",
      "\n",
      "Best parameters are: {'rf__max_depth': None, 'rf__n_estimators': 140}\n"
     ]
    }
   ],
   "source": [
    "# To identify best parameter for RandomForestClassifier\n",
    "# Instantiate pipeline\n",
    "pipe = Pipeline([\n",
    "    ('cv', CountVectorizer(stop_words='english', ngram_range=(1,2), min_df=1)),\n",
    "    ('rf', RandomForestClassifier())\n",
    "])\n",
    "\n",
    "# Fit GridSearchCV\n",
    "gs = GridSearchCV(pipe, pipe_params_rf2, cv=5) \n",
    "\n",
    "# Storing results temporarily in loop\n",
    "temp_mod = {}\n",
    "\n",
    "# Fit GridSearchCV\n",
    "gs.fit(X_train['title'], y_train)\n",
    "\n",
    "# Find predictors\n",
    "preds = gs.predict(X_test['title'])\n",
    "\n",
    "# Assign results to dictionary and append to dataframe - model_results2\n",
    "temp_mod['models'] = 'rf'\n",
    "temp_mod['best_params'] = gs.best_params_\n",
    "temp_mod['train_score'] = gs.score(X_train['title'], y_train)\n",
    "temp_mod['test_score'] = gs.score(X_test['title'], y_test)\n",
    "temp_mod['f1_score'] = f1_score(y_test, preds)\n",
    "model_results2 = model_results2.append(temp_mod, ignore_index=True)\n",
    "\n",
    "print (pipe)\n",
    "print ('')\n",
    "print (f'Train score: {temp_mod[\"train_score\"]}')\n",
    "print (f'Test score: {temp_mod[\"test_score\"]}')\n",
    "print ('')\n",
    "print (f'F1 score: {temp_mod[\"f1_score\"]}')\n",
    "print ('')\n",
    "print(f'Best parameters are: {temp_mod[\"best_params\"]}')"
   ]
  },
  {
   "cell_type": "markdown",
   "metadata": {},
   "source": [
    "### Result of best model"
   ]
  },
  {
   "cell_type": "code",
   "execution_count": 67,
   "metadata": {},
   "outputs": [
    {
     "data": {
      "text/html": [
       "<div>\n",
       "<style scoped>\n",
       "    .dataframe tbody tr th:only-of-type {\n",
       "        vertical-align: middle;\n",
       "    }\n",
       "\n",
       "    .dataframe tbody tr th {\n",
       "        vertical-align: top;\n",
       "    }\n",
       "\n",
       "    .dataframe thead th {\n",
       "        text-align: right;\n",
       "    }\n",
       "</style>\n",
       "<table border=\"1\" class=\"dataframe\">\n",
       "  <thead>\n",
       "    <tr style=\"text-align: right;\">\n",
       "      <th></th>\n",
       "      <th>models</th>\n",
       "      <th>best_params</th>\n",
       "      <th>train_score</th>\n",
       "      <th>test_score</th>\n",
       "      <th>f1_score</th>\n",
       "    </tr>\n",
       "  </thead>\n",
       "  <tbody>\n",
       "    <tr>\n",
       "      <th>0</th>\n",
       "      <td>nb</td>\n",
       "      <td>{'nb__alpha': 1.0}</td>\n",
       "      <td>0.891086</td>\n",
       "      <td>0.825414</td>\n",
       "      <td>0.867238</td>\n",
       "    </tr>\n",
       "    <tr>\n",
       "      <th>1</th>\n",
       "      <td>logreg</td>\n",
       "      <td>{'logreg__C': 1.1, 'logreg__max_iter': 4000, '...</td>\n",
       "      <td>0.881027</td>\n",
       "      <td>0.833861</td>\n",
       "      <td>0.873999</td>\n",
       "    </tr>\n",
       "    <tr>\n",
       "      <th>2</th>\n",
       "      <td>rf</td>\n",
       "      <td>{'rf__max_depth': None, 'rf__n_estimators': 140}</td>\n",
       "      <td>0.974159</td>\n",
       "      <td>0.826118</td>\n",
       "      <td>0.863460</td>\n",
       "    </tr>\n",
       "  </tbody>\n",
       "</table>\n",
       "</div>"
      ],
      "text/plain": [
       "   models                                        best_params  train_score  \\\n",
       "0      nb                                 {'nb__alpha': 1.0}     0.891086   \n",
       "1  logreg  {'logreg__C': 1.1, 'logreg__max_iter': 4000, '...     0.881027   \n",
       "2      rf   {'rf__max_depth': None, 'rf__n_estimators': 140}     0.974159   \n",
       "\n",
       "   test_score  f1_score  \n",
       "0    0.825414  0.867238  \n",
       "1    0.833861  0.873999  \n",
       "2    0.826118  0.863460  "
      ]
     },
     "execution_count": 67,
     "metadata": {},
     "output_type": "execute_result"
    }
   ],
   "source": [
    "model_results2"
   ]
  },
  {
   "cell_type": "markdown",
   "metadata": {},
   "source": [
    "#### Model best transformers & hyperparameters:\n",
    "\n",
    "Transfomers\n",
    "- TfidfVectorizer (stop_words='english', ngram_range=(1,1), min_df=2)\n",
    "\n",
    "Models\n",
    "- logreg: (C=1.1, max_iter=4000, penalty='l2')"
   ]
  },
  {
   "cell_type": "code",
   "execution_count": 68,
   "metadata": {},
   "outputs": [],
   "source": [
    "logreg_pipe2 = [\n",
    "    ('tf', TfidfVectorizer(stop_words='english', ngram_range=(1,1), min_df=2)),\n",
    "    ('logreg', LogisticRegression(C=1.1, max_iter=4000, penalty='l2'))\n",
    "    ]"
   ]
  },
  {
   "cell_type": "code",
   "execution_count": 69,
   "metadata": {},
   "outputs": [
    {
     "name": "stdout",
     "output_type": "stream",
     "text": [
      "CV score: 0.8392298893249619\n",
      "CV score: 0.8137930394316693\n",
      "\n",
      "Train score: 0.8810267082899758\n",
      "Test score: 0.833861316437874\n"
     ]
    }
   ],
   "source": [
    "# Create a multinomialnb with best hyperparameters\n",
    "\n",
    "# Instatiate pipeline\n",
    "pipe = Pipeline(logreg_pipe2)\n",
    "\n",
    "# Fit pipeline\n",
    "pipe.fit(X_train['title'], y_train)\n",
    "\n",
    "# Check model score (underfit or overfit)\n",
    "train_score = pipe.score(X_train['title'], y_train)\n",
    "test_score = pipe.score(X_test['title'], y_test)\n",
    "cv_score = cross_val_score(pipe, X_train['title'], y_train, cv=5).mean()\n",
    "cv_score2 = cross_val_score(pipe, X_test['title'], y_test, cv=5).mean()\n",
    "\n",
    "print (f'CV score: {cv_score}')\n",
    "print (f'CV score: {cv_score2}')\n",
    "print('')\n",
    "print (f'Train score: {train_score}')\n",
    "print (f'Test score: {test_score}')\n",
    "\n",
    "# Generate predictions\n",
    "preds = pipe.predict(X_test['title'])"
   ]
  },
  {
   "cell_type": "code",
   "execution_count": 70,
   "metadata": {
    "scrolled": false
   },
   "outputs": [
    {
     "name": "stdout",
     "output_type": "stream",
     "text": [
      "Accuracy score: 0.833861316437874\n",
      "F1 score: 0.8739989321943407\n",
      "--------------------------------------------------------------------------\n",
      "\n",
      "True Negatives: 732\n",
      "False Positives: 362\n",
      "False Negatives: 110\n",
      "True Positives: 1637\n",
      "\n",
      "Dogecoin predicted correctly: 0.9370349170005724\n",
      "GME predicted correctly: 0.6691042047531993\n"
     ]
    },
    {
     "data": {
      "image/png": "[encoded data removed]",
      "text/plain": [
       "<Figure size 432x288 with 2 Axes>"
      ]
     },
     "metadata": {
      "needs_background": "light"
     },
     "output_type": "display_data"
    }
   ],
   "source": [
    "eva_metrics(y_test, preds, X_test['title'])"
   ]
  },
  {
   "cell_type": "code",
   "execution_count": 71,
   "metadata": {},
   "outputs": [
    {
     "data": {
      "text/html": [
       "<div>\n",
       "<style scoped>\n",
       "    .dataframe tbody tr th:only-of-type {\n",
       "        vertical-align: middle;\n",
       "    }\n",
       "\n",
       "    .dataframe tbody tr th {\n",
       "        vertical-align: top;\n",
       "    }\n",
       "\n",
       "    .dataframe thead th {\n",
       "        text-align: right;\n",
       "    }\n",
       "</style>\n",
       "<table border=\"1\" class=\"dataframe\">\n",
       "  <thead>\n",
       "    <tr style=\"text-align: right;\">\n",
       "      <th></th>\n",
       "      <th>true_values</th>\n",
       "      <th>pred_probs</th>\n",
       "    </tr>\n",
       "  </thead>\n",
       "  <tbody>\n",
       "    <tr>\n",
       "      <th>4008</th>\n",
       "      <td>1</td>\n",
       "      <td>0.986362</td>\n",
       "    </tr>\n",
       "    <tr>\n",
       "      <th>1919</th>\n",
       "      <td>0</td>\n",
       "      <td>0.647355</td>\n",
       "    </tr>\n",
       "    <tr>\n",
       "      <th>4000</th>\n",
       "      <td>1</td>\n",
       "      <td>0.970546</td>\n",
       "    </tr>\n",
       "    <tr>\n",
       "      <th>3270</th>\n",
       "      <td>0</td>\n",
       "      <td>0.063644</td>\n",
       "    </tr>\n",
       "    <tr>\n",
       "      <th>5735</th>\n",
       "      <td>1</td>\n",
       "      <td>0.861430</td>\n",
       "    </tr>\n",
       "  </tbody>\n",
       "</table>\n",
       "</div>"
      ],
      "text/plain": [
       "      true_values  pred_probs\n",
       "4008            1    0.986362\n",
       "1919            0    0.647355\n",
       "4000            1    0.970546\n",
       "3270            0    0.063644\n",
       "5735            1    0.861430"
      ]
     },
     "execution_count": 71,
     "metadata": {},
     "output_type": "execute_result"
    }
   ],
   "source": [
    "# Create dataframe for predictors\n",
    "pred_df = pd.DataFrame({'true_values': y_test,\n",
    "                        'pred_probs': pipe.predict_proba(X_test['title'])[:,1]})\n",
    "\n",
    "pred_df.head()"
   ]
  },
  {
   "cell_type": "code",
   "execution_count": 72,
   "metadata": {},
   "outputs": [
    {
     "data": {
      "image/png": "[encoded data removed]",
      "text/plain": [
       "<Figure size 432x288 with 1 Axes>"
      ]
     },
     "metadata": {
      "needs_background": "light"
     },
     "output_type": "display_data"
    }
   ],
   "source": [
    "# Plot ROC-AUC graph\n",
    "plot_roc_curve(pipe, X_test['title'], y_test)\n",
    "plt.plot([0, 1], [0, 1],\n",
    "         label='baseline', linestyle='--')\n",
    "plt.legend();"
   ]
  },
  {
   "cell_type": "code",
   "execution_count": 73,
   "metadata": {},
   "outputs": [
    {
     "name": "stdout",
     "output_type": "stream",
     "text": [
      "ROC_AUC score: 0.8998471132021572\n"
     ]
    }
   ],
   "source": [
    "rocauc_score = roc_auc_score(y_test, pipe.predict_proba(X_test['title'])[:,1])\n",
    "print (f'ROC_AUC score: {rocauc_score}')"
   ]
  },
  {
   "cell_type": "code",
   "execution_count": null,
   "metadata": {},
   "outputs": [],
   "source": [
    "# y_pred2 = pd.DataFrame(preds, columns=[\"prediction\"])"
   ]
  },
  {
   "cell_type": "code",
   "execution_count": null,
   "metadata": {},
   "outputs": [],
   "source": [
    "# y_pred2['prediction'].value_counts()"
   ]
  },
  {
   "cell_type": "markdown",
   "metadata": {},
   "source": [
    "### Evaluation of Score"
   ]
  },
  {
   "cell_type": "markdown",
   "metadata": {},
   "source": [
    "#### Post\n",
    "- Best model: CountVectorizer (stop_words='english', ngram_range=(1,1), min_df= ) with MultinomialNB(alpha=1)\n",
    "- F1 score: 0.8936521022258862\n",
    "- ROC-AUC score: 0.9333561111291334\n",
    "\n",
    "#### Title\n",
    "- Best model: TF-IDF (stop_words='english', ngram_range=(1,2), min_df= ) with MultinomialNB(alpha=1)\n",
    "- F1 score: 0.8739989321943407\n",
    "- ROC-AUC score: 0.8998471132021572"
   ]
  },
  {
   "cell_type": "markdown",
   "metadata": {},
   "source": [
    "# Conclusion & Recommendations"
   ]
  },
  {
   "cell_type": "markdown",
   "metadata": {},
   "source": [
    "### Conclusion\n",
    "We identify requirements of the problem statement (approach using Natural Language Processing (NLP) and events that cause an increase in share price) needed and extracted the data from individual subreddits (r/GME & r/dogecoin). \n",
    "\n",
    "Preliminary exploratory data analysis was done to understand the characteristic such as common words, frequency and distribution of words and characters for both post and title. We identify some noises and proceeded to clean, pre-process the data. We conducted another EDA to examine changes from the initial data set and notice that the data changes especially top words.\n",
    "\n",
    "We tested using 2 different types of vectorizer (CountVectorizer and TF-IDF) and 3 types of classification models (Logistic Regression, MultinomialNB and Random Forest) using GridSearchCV and it has identified the best model based on F1 score and ROC-AUC metrics.\n",
    "\n",
    "#### Best Model:\n",
    "<font color='red'>- For post: TF-IDF (n-gram:(1, 1), min_df=2) with Random Forest (max_depth=None, n_estimators=160)</font>  \n",
    "<font color='red'>- For title: TF-IDF (n_gram: (1, 1), min_df=2) with Logistic Regression (C=1.1, max_iter=4000, penalty='l2')</font>\n",
    "\n",
    "Through our observation the model performs relatively well for both post and title with an F1 score of 89.3% and ROC-AUC score of 93.3% for post whereas F1 score of 87.3% and ROC-AUC score of 89.9% for title, small difference in comparison to each other.\n",
    "\n",
    "While our data is imbalanced, the results have clearly shown that it is able to classify post with a relatively high score. The model produce would be useful for the group of investors to identify the classification of based on an unseen post and understand the trends within the the community based on words used. "
   ]
  },
  {
   "cell_type": "markdown",
   "metadata": {},
   "source": [
    "### Recommendations\n",
    "\n",
    "While the model performs relatively well, they are many flaws and ways to further improve it's accuracy. Following are some recommendations that we can implement:\n",
    "\n",
    "1) The current data is based on a recent event. If the model is trained with data from other similar events, we may be able to improve the score further and differentiate 2 different data clearly.\n",
    "\n",
    "2) As unstructured data is now explored in many real-time businesses and depending on the cause of fluctuation of individual price, other medias can be explored, for example, financial blogs and news sites \n",
    "\n",
    "3) We can build more complex model using to minimize false positive and false negative by using other types of vectorizer such as Word2Vec and Bert."
   ]
  },
  {
   "cell_type": "code",
   "execution_count": null,
   "metadata": {},
   "outputs": [],
   "source": []
  }
 ],
 "metadata": {
  "interpreter": {
   "hash": "b3ba2566441a7c06988d0923437866b63cedc61552a5af99d1f4fb67d367b25f"
  },
  "kernelspec": {
   "display_name": "Python 3",
   "language": "python",
   "name": "python3"
  },
  "language_info": {
   "codemirror_mode": {
    "name": "ipython",
    "version": 3
   },
   "file_extension": ".py",
   "mimetype": "text/x-python",
   "name": "python",
   "nbconvert_exporter": "python",
   "pygments_lexer": "ipython3",
   "version": "3.8.5"
  }
 },
 "nbformat": 4,
 "nbformat_minor": 4
}
